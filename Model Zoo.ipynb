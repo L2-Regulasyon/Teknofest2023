{
 "cells": [
  {
   "cell_type": "code",
   "execution_count": 1,
   "id": "3da5f602",
   "metadata": {},
   "outputs": [],
   "source": [
    "import pandas as pd\n",
    "import numpy as np\n",
    "\n",
    "from src.utils.data_utils import read_model_zoo"
   ]
  },
  {
   "cell_type": "code",
   "execution_count": 2,
   "id": "2779b5ce",
   "metadata": {},
   "outputs": [],
   "source": [
    "zoo = read_model_zoo()"
   ]
  },
  {
   "cell_type": "code",
   "execution_count": 3,
   "id": "2b0c07e5",
   "metadata": {},
   "outputs": [],
   "source": [
    "public_zoo = zoo[\"public_fold\"]"
   ]
  },
  {
   "cell_type": "code",
   "execution_count": 4,
   "id": "1bf3f39e",
   "metadata": {},
   "outputs": [
    {
     "data": {
      "text/html": [
       "<div>\n",
       "<style scoped>\n",
       "    .dataframe tbody tr th:only-of-type {\n",
       "        vertical-align: middle;\n",
       "    }\n",
       "\n",
       "    .dataframe tbody tr th {\n",
       "        vertical-align: top;\n",
       "    }\n",
       "\n",
       "    .dataframe thead th {\n",
       "        text-align: right;\n",
       "    }\n",
       "</style>\n",
       "<table border=\"1\" class=\"dataframe\">\n",
       "  <thead>\n",
       "    <tr style=\"text-align: right;\">\n",
       "      <th></th>\n",
       "      <th>INSULT</th>\n",
       "      <th>OTHER</th>\n",
       "      <th>PROFANITY</th>\n",
       "      <th>RACIST</th>\n",
       "      <th>SEXIST</th>\n",
       "      <th>accuracy</th>\n",
       "      <th>macro avg</th>\n",
       "      <th>weighted avg</th>\n",
       "    </tr>\n",
       "  </thead>\n",
       "  <tbody>\n",
       "    <tr>\n",
       "      <th>TFIDF + LGB</th>\n",
       "      <td>{'precision': 0.5897662108513454, 'recall': 0....</td>\n",
       "      <td>{'precision': 0.5508959207014869, 'recall': 0....</td>\n",
       "      <td>{'precision': 0.8759305210918115, 'recall': 0....</td>\n",
       "      <td>{'precision': 0.7543859649122807, 'recall': 0....</td>\n",
       "      <td>{'precision': 0.8394160583941606, 'recall': 0....</td>\n",
       "      <td>0.667231</td>\n",
       "      <td>{'precision': 0.722078935190217, 'recall': 0.6...</td>\n",
       "      <td>{'precision': 0.7023264646765913, 'recall': 0....</td>\n",
       "    </tr>\n",
       "    <tr>\n",
       "      <th>sentence-transformers/paraphrase-multilingual-mpnet-base-v2 Embeddings + LGB</th>\n",
       "      <td>{'precision': 0.6875, 'recall': 0.717091516924...</td>\n",
       "      <td>{'precision': 0.842572658772874, 'recall': 0.8...</td>\n",
       "      <td>{'precision': 0.7316253674926502, 'recall': 0....</td>\n",
       "      <td>{'precision': 0.8113522537562604, 'recall': 0....</td>\n",
       "      <td>{'precision': 0.8906481939633845, 'recall': 0....</td>\n",
       "      <td>0.793409</td>\n",
       "      <td>{'precision': 0.7927396947970339, 'recall': 0....</td>\n",
       "      <td>{'precision': 0.794379480850658, 'recall': 0.7...</td>\n",
       "    </tr>\n",
       "  </tbody>\n",
       "</table>\n",
       "</div>"
      ],
      "text/plain": [
       "                                                                                               INSULT  \\\n",
       "TFIDF + LGB                                         {'precision': 0.5897662108513454, 'recall': 0....   \n",
       "sentence-transformers/paraphrase-multilingual-m...  {'precision': 0.6875, 'recall': 0.717091516924...   \n",
       "\n",
       "                                                                                                OTHER  \\\n",
       "TFIDF + LGB                                         {'precision': 0.5508959207014869, 'recall': 0....   \n",
       "sentence-transformers/paraphrase-multilingual-m...  {'precision': 0.842572658772874, 'recall': 0.8...   \n",
       "\n",
       "                                                                                            PROFANITY  \\\n",
       "TFIDF + LGB                                         {'precision': 0.8759305210918115, 'recall': 0....   \n",
       "sentence-transformers/paraphrase-multilingual-m...  {'precision': 0.7316253674926502, 'recall': 0....   \n",
       "\n",
       "                                                                                               RACIST  \\\n",
       "TFIDF + LGB                                         {'precision': 0.7543859649122807, 'recall': 0....   \n",
       "sentence-transformers/paraphrase-multilingual-m...  {'precision': 0.8113522537562604, 'recall': 0....   \n",
       "\n",
       "                                                                                               SEXIST  \\\n",
       "TFIDF + LGB                                         {'precision': 0.8394160583941606, 'recall': 0....   \n",
       "sentence-transformers/paraphrase-multilingual-m...  {'precision': 0.8906481939633845, 'recall': 0....   \n",
       "\n",
       "                                                    accuracy  \\\n",
       "TFIDF + LGB                                         0.667231   \n",
       "sentence-transformers/paraphrase-multilingual-m...  0.793409   \n",
       "\n",
       "                                                                                            macro avg  \\\n",
       "TFIDF + LGB                                         {'precision': 0.722078935190217, 'recall': 0.6...   \n",
       "sentence-transformers/paraphrase-multilingual-m...  {'precision': 0.7927396947970339, 'recall': 0....   \n",
       "\n",
       "                                                                                         weighted avg  \n",
       "TFIDF + LGB                                         {'precision': 0.7023264646765913, 'recall': 0....  \n",
       "sentence-transformers/paraphrase-multilingual-m...  {'precision': 0.794379480850658, 'recall': 0.7...  "
      ]
     },
     "execution_count": 4,
     "metadata": {},
     "output_type": "execute_result"
    }
   ],
   "source": [
    "pd.DataFrame(public_zoo).T"
   ]
  }
 ],
 "metadata": {
  "kernelspec": {
   "display_name": "Python 3 (ipykernel)",
   "language": "python",
   "name": "python3"
  },
  "language_info": {
   "codemirror_mode": {
    "name": "ipython",
    "version": 3
   },
   "file_extension": ".py",
   "mimetype": "text/x-python",
   "name": "python",
   "nbconvert_exporter": "python",
   "pygments_lexer": "ipython3",
   "version": "3.8.10"
  }
 },
 "nbformat": 4,
 "nbformat_minor": 5
}
