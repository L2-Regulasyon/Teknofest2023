{
 "cells": [
  {
   "cell_type": "markdown",
   "id": "1d43e525",
   "metadata": {},
   "source": [
    "Bu notebookda potansiyel duplicate olabilecek satırların bulunması hedeflenmiştir."
   ]
  },
  {
   "cell_type": "markdown",
   "id": "d8a19073",
   "metadata": {},
   "source": [
    "### Imports"
   ]
  },
  {
   "cell_type": "code",
   "execution_count": 1,
   "id": "b2983d3f",
   "metadata": {},
   "outputs": [
    {
     "name": "stdout",
     "output_type": "stream",
     "text": [
      "INFO: Pandarallel will run on 24 workers.\n",
      "INFO: Pandarallel will use Memory file system to transfer data between the main process and workers.\n"
     ]
    }
   ],
   "source": [
    "import pandas as pd\n",
    "import numpy as np\n",
    "from tqdm.notebook import tqdm\n",
    "tqdm.pandas()\n",
    "from pandarallel import pandarallel\n",
    "from difflib import get_close_matches\n",
    "pandarallel.initialize(progress_bar=True,nb_workers=24)\n",
    "pd.set_option('display.max_rows', 500)\n",
    "pd.set_option('display.max_columns', 500)"
   ]
  },
  {
   "cell_type": "markdown",
   "id": "6a6d7b8a",
   "metadata": {},
   "source": [
    "### Read and Preprocess"
   ]
  },
  {
   "cell_type": "code",
   "execution_count": 2,
   "id": "45b854fd",
   "metadata": {},
   "outputs": [],
   "source": [
    "df = pd.read_csv(\"../data/raw/teknofest_train_final.csv\",sep=\"|\")"
   ]
  },
  {
   "cell_type": "code",
   "execution_count": 3,
   "id": "7ceaf132",
   "metadata": {},
   "outputs": [],
   "source": [
    "#hard duplicateleri değil, birbirine çok yakın cümleleri tespit etmek istemiyoruz.\n",
    "df = df.drop_duplicates('text').reset_index(drop=True)"
   ]
  },
  {
   "cell_type": "markdown",
   "id": "a70bda65",
   "metadata": {},
   "source": [
    "### Finding Near-Duplicates"
   ]
  },
  {
   "cell_type": "code",
   "execution_count": 3,
   "id": "30aadda5",
   "metadata": {},
   "outputs": [],
   "source": [
    "#en yakın 10 cümleyi bul, threshold 0.85'den büyükse dahil et\n",
    "patterns = df.text.to_list()\n",
    "def closeMatches(word):\n",
    "    global patterns\n",
    "    return get_close_matches(word,patterns,n=10,cutoff=0.85)"
   ]
  },
  {
   "cell_type": "code",
   "execution_count": 4,
   "id": "32d20d34",
   "metadata": {
    "scrolled": true
   },
   "outputs": [
    {
     "data": {
      "application/vnd.jupyter.widget-view+json": {
       "model_id": "b559af87295f46db83670b536faab66e",
       "version_major": 2,
       "version_minor": 0
      },
      "text/plain": [
       "VBox(children=(HBox(children=(IntProgress(value=0, description='0.00%', max=526), Label(value='0 / 526'))), HB…"
      ]
     },
     "metadata": {},
     "output_type": "display_data"
    }
   ],
   "source": [
    "df['closest'] = df.text.parallel_apply(lambda x: closeMatches(x))"
   ]
  },
  {
   "cell_type": "code",
   "execution_count": 7,
   "id": "5a63bb6f",
   "metadata": {},
   "outputs": [],
   "source": [
    "df_dups = df.copy()\n",
    "df_dups = df_dups.explode(column=['closest']).reset_index(drop=True)"
   ]
  },
  {
   "cell_type": "code",
   "execution_count": 8,
   "id": "a154135f",
   "metadata": {},
   "outputs": [],
   "source": [
    "df_dups['self_match'] = (df_dups['text'] == df_dups['closest'])\n",
    "df_dups = df_dups[df_dups['self_match']==False].drop('self_match',axis=1)\n",
    "df_dups = df_dups.merge(df[['id','text','target']].rename(columns={'text':'closest'}),how='left',on='closest')"
   ]
  },
  {
   "cell_type": "code",
   "execution_count": 9,
   "id": "09aee1e0",
   "metadata": {
    "scrolled": true
   },
   "outputs": [],
   "source": [
    "df_dups = df_dups[['id_x','target_x','text','id_y','target_y','closest']]"
   ]
  },
  {
   "cell_type": "code",
   "execution_count": 11,
   "id": "5f778f90",
   "metadata": {},
   "outputs": [
    {
     "data": {
      "text/html": [
       "<div>\n",
       "<style scoped>\n",
       "    .dataframe tbody tr th:only-of-type {\n",
       "        vertical-align: middle;\n",
       "    }\n",
       "\n",
       "    .dataframe tbody tr th {\n",
       "        vertical-align: top;\n",
       "    }\n",
       "\n",
       "    .dataframe thead th {\n",
       "        text-align: right;\n",
       "    }\n",
       "</style>\n",
       "<table border=\"1\" class=\"dataframe\">\n",
       "  <thead>\n",
       "    <tr style=\"text-align: right;\">\n",
       "      <th></th>\n",
       "      <th>id_x</th>\n",
       "      <th>target_x</th>\n",
       "      <th>text</th>\n",
       "      <th>id_y</th>\n",
       "      <th>target_y</th>\n",
       "      <th>closest</th>\n",
       "    </tr>\n",
       "  </thead>\n",
       "  <tbody>\n",
       "    <tr>\n",
       "      <th>0</th>\n",
       "      <td>d93e05f7-bfdd-4cdb-99d8-3048761b30ff</td>\n",
       "      <td>OTHER</td>\n",
       "      <td>otomasyon&lt; sistemlerine= doğrudan bağlanabilir</td>\n",
       "      <td>d9fd2463-2ab4-443f-9e2f-ddcd8be84740</td>\n",
       "      <td>OTHER</td>\n",
       "      <td>otomasyon sistemlerine doğrudan bağlanabilir</td>\n",
       "    </tr>\n",
       "    <tr>\n",
       "      <th>1</th>\n",
       "      <td>c99b56c2-f683-48ac-90d4-f540f64c9328</td>\n",
       "      <td>INSULT</td>\n",
       "      <td>köpek gibi ne havlayıp duruyorsun</td>\n",
       "      <td>52093506-3a22-4614-aa40-e7ae5163fc94</td>\n",
       "      <td>INSULT</td>\n",
       "      <td>köpek gibi havlayıpcduruyorsun</td>\n",
       "    </tr>\n",
       "    <tr>\n",
       "      <th>2</th>\n",
       "      <td>0f512230-451f-4ccb-ba34-81570280e915</td>\n",
       "      <td>PROFANITY</td>\n",
       "      <td>ananı sikerim baban olurum</td>\n",
       "      <td>38402b8e-e23c-4871-ae97-14eeb15ea152</td>\n",
       "      <td>PROFANITY</td>\n",
       "      <td>ananı siker baban olurum</td>\n",
       "    </tr>\n",
       "    <tr>\n",
       "      <th>3</th>\n",
       "      <td>7d60c943-ada2-4f6f-9416-a087f8848403</td>\n",
       "      <td>RACIST</td>\n",
       "      <td>Araplar haindir.</td>\n",
       "      <td>35c47bfd-c5ab-43f8-a922-e67e0ccb446d</td>\n",
       "      <td>RACIST</td>\n",
       "      <td>araplar haindir</td>\n",
       "    </tr>\n",
       "    <tr>\n",
       "      <th>4</th>\n",
       "      <td>f9269767-9c1f-4b7d-80ab-84d0b8e4f4de</td>\n",
       "      <td>RACIST</td>\n",
       "      <td>Çingene ile ahbap olursan mükafatın kalbur olur</td>\n",
       "      <td>34cec706-6fed-4b67-84fe-498eda7dd6d5</td>\n",
       "      <td>RACIST</td>\n",
       "      <td>Çingeneyle ahbap olanın mükafatı kalbur olur</td>\n",
       "    </tr>\n",
       "    <tr>\n",
       "      <th>...</th>\n",
       "      <td>...</td>\n",
       "      <td>...</td>\n",
       "      <td>...</td>\n",
       "      <td>...</td>\n",
       "      <td>...</td>\n",
       "      <td>...</td>\n",
       "    </tr>\n",
       "    <tr>\n",
       "      <th>1021</th>\n",
       "      <td>0a391287-39d7-4160-8ee5-343013fab4d2</td>\n",
       "      <td>PROFANITY</td>\n",
       "      <td>orospunun çıkartıp kerhane köşelerine attığı k...</td>\n",
       "      <td>53624398-c2b4-4ee4-a55e-c5a822330f3f</td>\n",
       "      <td>PROFANITY</td>\n",
       "      <td>orospunun çıkartıp kerhane köşelerine attigi k...</td>\n",
       "    </tr>\n",
       "    <tr>\n",
       "      <th>1022</th>\n",
       "      <td>83d7088b-85ab-4570-8419-aee7d5e6479b</td>\n",
       "      <td>RACIST</td>\n",
       "      <td>kürt’ün kocayanına keçi güttürürler</td>\n",
       "      <td>9603c880-b2ba-46ed-935f-58379fbca9a3</td>\n",
       "      <td>RACIST</td>\n",
       "      <td>Kürdün kocayanına keçi güttürürler</td>\n",
       "    </tr>\n",
       "    <tr>\n",
       "      <th>1023</th>\n",
       "      <td>83d7088b-85ab-4570-8419-aee7d5e6479b</td>\n",
       "      <td>RACIST</td>\n",
       "      <td>kürt’ün kocayanına keçi güttürürler</td>\n",
       "      <td>3dead1bf-4e66-4368-b0d1-469151686bc7</td>\n",
       "      <td>RACIST</td>\n",
       "      <td>Kürdün anca kocayanına keçi güttürürler</td>\n",
       "    </tr>\n",
       "    <tr>\n",
       "      <th>1024</th>\n",
       "      <td>17f38489-65e0-47f3-802c-ea95e953b7f3</td>\n",
       "      <td>SEXIST</td>\n",
       "      <td>kadınsan kadınlığını bileceksin</td>\n",
       "      <td>7ed1b756-88ea-430d-91cc-8150eec51761</td>\n",
       "      <td>SEXIST</td>\n",
       "      <td>Kadın kadınlığını bilecek</td>\n",
       "    </tr>\n",
       "    <tr>\n",
       "      <th>1025</th>\n",
       "      <td>c27503ef-9258-49c8-9001-4fd203ea63f3</td>\n",
       "      <td>SEXIST</td>\n",
       "      <td>Avrat var ev yapar avrat var ev yıkar</td>\n",
       "      <td>5be0b30f-3227-43bc-9b8d-e2b354772d90</td>\n",
       "      <td>SEXIST</td>\n",
       "      <td>Avrat ev yapar avrat ev yıkar</td>\n",
       "    </tr>\n",
       "  </tbody>\n",
       "</table>\n",
       "<p>1026 rows × 6 columns</p>\n",
       "</div>"
      ],
      "text/plain": [
       "                                      id_x   target_x  \\\n",
       "0     d93e05f7-bfdd-4cdb-99d8-3048761b30ff      OTHER   \n",
       "1     c99b56c2-f683-48ac-90d4-f540f64c9328     INSULT   \n",
       "2     0f512230-451f-4ccb-ba34-81570280e915  PROFANITY   \n",
       "3     7d60c943-ada2-4f6f-9416-a087f8848403     RACIST   \n",
       "4     f9269767-9c1f-4b7d-80ab-84d0b8e4f4de     RACIST   \n",
       "...                                    ...        ...   \n",
       "1021  0a391287-39d7-4160-8ee5-343013fab4d2  PROFANITY   \n",
       "1022  83d7088b-85ab-4570-8419-aee7d5e6479b     RACIST   \n",
       "1023  83d7088b-85ab-4570-8419-aee7d5e6479b     RACIST   \n",
       "1024  17f38489-65e0-47f3-802c-ea95e953b7f3     SEXIST   \n",
       "1025  c27503ef-9258-49c8-9001-4fd203ea63f3     SEXIST   \n",
       "\n",
       "                                                   text  \\\n",
       "0        otomasyon< sistemlerine= doğrudan bağlanabilir   \n",
       "1                     köpek gibi ne havlayıp duruyorsun   \n",
       "2                            ananı sikerim baban olurum   \n",
       "3                                      Araplar haindir.   \n",
       "4       Çingene ile ahbap olursan mükafatın kalbur olur   \n",
       "...                                                 ...   \n",
       "1021  orospunun çıkartıp kerhane köşelerine attığı k...   \n",
       "1022                kürt’ün kocayanına keçi güttürürler   \n",
       "1023                kürt’ün kocayanına keçi güttürürler   \n",
       "1024                    kadınsan kadınlığını bileceksin   \n",
       "1025              Avrat var ev yapar avrat var ev yıkar   \n",
       "\n",
       "                                      id_y   target_y  \\\n",
       "0     d9fd2463-2ab4-443f-9e2f-ddcd8be84740      OTHER   \n",
       "1     52093506-3a22-4614-aa40-e7ae5163fc94     INSULT   \n",
       "2     38402b8e-e23c-4871-ae97-14eeb15ea152  PROFANITY   \n",
       "3     35c47bfd-c5ab-43f8-a922-e67e0ccb446d     RACIST   \n",
       "4     34cec706-6fed-4b67-84fe-498eda7dd6d5     RACIST   \n",
       "...                                    ...        ...   \n",
       "1021  53624398-c2b4-4ee4-a55e-c5a822330f3f  PROFANITY   \n",
       "1022  9603c880-b2ba-46ed-935f-58379fbca9a3     RACIST   \n",
       "1023  3dead1bf-4e66-4368-b0d1-469151686bc7     RACIST   \n",
       "1024  7ed1b756-88ea-430d-91cc-8150eec51761     SEXIST   \n",
       "1025  5be0b30f-3227-43bc-9b8d-e2b354772d90     SEXIST   \n",
       "\n",
       "                                                closest  \n",
       "0          otomasyon sistemlerine doğrudan bağlanabilir  \n",
       "1                        köpek gibi havlayıpcduruyorsun  \n",
       "2                              ananı siker baban olurum  \n",
       "3                                       araplar haindir  \n",
       "4          Çingeneyle ahbap olanın mükafatı kalbur olur  \n",
       "...                                                 ...  \n",
       "1021  orospunun çıkartıp kerhane köşelerine attigi k...  \n",
       "1022                 Kürdün kocayanına keçi güttürürler  \n",
       "1023            Kürdün anca kocayanına keçi güttürürler  \n",
       "1024                          Kadın kadınlığını bilecek  \n",
       "1025                      Avrat ev yapar avrat ev yıkar  \n",
       "\n",
       "[1026 rows x 6 columns]"
      ]
     },
     "execution_count": 11,
     "metadata": {},
     "output_type": "execute_result"
    }
   ],
   "source": [
    "df_dups"
   ]
  },
  {
   "cell_type": "code",
   "execution_count": 10,
   "id": "99f11cc2",
   "metadata": {},
   "outputs": [
    {
     "data": {
      "text/plain": [
       "True     993\n",
       "False     33\n",
       "dtype: int64"
      ]
     },
     "execution_count": 10,
     "metadata": {},
     "output_type": "execute_result"
    }
   ],
   "source": [
    "(df_dups.target_y == df_dups.target_x).value_counts()"
   ]
  },
  {
   "cell_type": "markdown",
   "id": "a7736168",
   "metadata": {},
   "source": [
    "1026 satır birbirinden farklı ancak birbine çok yakın cümleler bulduk. Bu near-duplicateslerin ya noktalama işareti ya da aynı anlamların farklı kelimelerle ifade edildiğini görmekteyiz. Bu eşleşenlerden yalnızca 33 tanesi farklı target alırken; 993 tanesi aynı targeta sahiptir."
   ]
  }
 ],
 "metadata": {
  "kernelspec": {
   "display_name": "Python 3 (ipykernel)",
   "language": "python",
   "name": "python3"
  },
  "language_info": {
   "codemirror_mode": {
    "name": "ipython",
    "version": 3
   },
   "file_extension": ".py",
   "mimetype": "text/x-python",
   "name": "python",
   "nbconvert_exporter": "python",
   "pygments_lexer": "ipython3",
   "version": "3.9.13"
  }
 },
 "nbformat": 4,
 "nbformat_minor": 5
}
