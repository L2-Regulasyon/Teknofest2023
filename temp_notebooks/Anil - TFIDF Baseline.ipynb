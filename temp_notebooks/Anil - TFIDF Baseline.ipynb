{
 "cells": [
  {
   "cell_type": "code",
   "execution_count": 1,
   "id": "b1db618b",
   "metadata": {},
   "outputs": [],
   "source": [
    "import pandas as pd\n",
    "from sklearn.model_selection import StratifiedKFold\n",
    "from sklearn.feature_extraction.text import TfidfVectorizer\n",
    "from lightgbm import LGBMClassifier\n",
    "from sklearn.metrics import classification_report\n",
    "from tqdm import tqdm\n",
    "from transformers import AutoTokenizer, Trainer, TrainingArguments, AutoModelForSequenceClassification, DataCollatorWithPadding\n",
    "from datasets import Dataset"
   ]
  },
  {
   "cell_type": "code",
   "execution_count": 2,
   "id": "38a0bad4",
   "metadata": {},
   "outputs": [
    {
     "data": {
      "text/html": [
       "<div>\n",
       "<style scoped>\n",
       "    .dataframe tbody tr th:only-of-type {\n",
       "        vertical-align: middle;\n",
       "    }\n",
       "\n",
       "    .dataframe tbody tr th {\n",
       "        vertical-align: top;\n",
       "    }\n",
       "\n",
       "    .dataframe thead th {\n",
       "        text-align: right;\n",
       "    }\n",
       "</style>\n",
       "<table border=\"1\" class=\"dataframe\">\n",
       "  <thead>\n",
       "    <tr style=\"text-align: right;\">\n",
       "      <th></th>\n",
       "      <th>id</th>\n",
       "      <th>text</th>\n",
       "      <th>is_offensive</th>\n",
       "      <th>target</th>\n",
       "      <th>pred</th>\n",
       "    </tr>\n",
       "  </thead>\n",
       "  <tbody>\n",
       "    <tr>\n",
       "      <th>0</th>\n",
       "      <td>81c11060-a240-4d54-841b-9e2916039e85</td>\n",
       "      <td>çürük dişli</td>\n",
       "      <td>1</td>\n",
       "      <td>INSULT</td>\n",
       "      <td>nan</td>\n",
       "    </tr>\n",
       "    <tr>\n",
       "      <th>1</th>\n",
       "      <td>be80ebbf-b322-4c3b-afa1-94932ea80731</td>\n",
       "      <td>Bu adamın islama ve müslümanlara verdiği zarar...</td>\n",
       "      <td>1</td>\n",
       "      <td>RACIST</td>\n",
       "      <td>nan</td>\n",
       "    </tr>\n",
       "    <tr>\n",
       "      <th>2</th>\n",
       "      <td>f99e2513-83ed-4076-ac72-b9e2cff3f049</td>\n",
       "      <td>erkekler zora gelmez</td>\n",
       "      <td>1</td>\n",
       "      <td>SEXIST</td>\n",
       "      <td>nan</td>\n",
       "    </tr>\n",
       "    <tr>\n",
       "      <th>3</th>\n",
       "      <td>83ed2b2e-b815-4f36-9fc4-80a9050cf2d0</td>\n",
       "      <td>Utanmazın götüne kazık sokmuşlar bu tıkırtı ne...</td>\n",
       "      <td>1</td>\n",
       "      <td>PROFANITY</td>\n",
       "      <td>nan</td>\n",
       "    </tr>\n",
       "    <tr>\n",
       "      <th>4</th>\n",
       "      <td>d93e05f7-bfdd-4cdb-99d8-3048761b30ff</td>\n",
       "      <td>otomasyon&lt; sistemlerine= doğrudan bağlanabilir</td>\n",
       "      <td>0</td>\n",
       "      <td>OTHER</td>\n",
       "      <td>nan</td>\n",
       "    </tr>\n",
       "  </tbody>\n",
       "</table>\n",
       "</div>"
      ],
      "text/plain": [
       "                                     id  \\\n",
       "0  81c11060-a240-4d54-841b-9e2916039e85   \n",
       "1  be80ebbf-b322-4c3b-afa1-94932ea80731   \n",
       "2  f99e2513-83ed-4076-ac72-b9e2cff3f049   \n",
       "3  83ed2b2e-b815-4f36-9fc4-80a9050cf2d0   \n",
       "4  d93e05f7-bfdd-4cdb-99d8-3048761b30ff   \n",
       "\n",
       "                                                text  is_offensive     target  \\\n",
       "0                                        çürük dişli             1     INSULT   \n",
       "1  Bu adamın islama ve müslümanlara verdiği zarar...             1     RACIST   \n",
       "2                               erkekler zora gelmez             1     SEXIST   \n",
       "3  Utanmazın götüne kazık sokmuşlar bu tıkırtı ne...             1  PROFANITY   \n",
       "4     otomasyon< sistemlerine= doğrudan bağlanabilir             0      OTHER   \n",
       "\n",
       "  pred  \n",
       "0  nan  \n",
       "1  nan  \n",
       "2  nan  \n",
       "3  nan  \n",
       "4  nan  "
      ]
     },
     "execution_count": 2,
     "metadata": {},
     "output_type": "execute_result"
    }
   ],
   "source": [
    "df = pd.read_csv(\"../data/raw/teknofest_train_final.csv\",\n",
    "                 sep=\"|\")\n",
    "df[\"pred\"] = \"nan\"\n",
    "df.head()"
   ]
  },
  {
   "cell_type": "code",
   "execution_count": 3,
   "id": "4649917c",
   "metadata": {},
   "outputs": [],
   "source": [
    "skf = StratifiedKFold(n_splits=5,\n",
    "                      shuffle=True,\n",
    "                      random_state=1337)\n",
    "\n",
    "splits = list(skf.split(df, df[\"target\"]))"
   ]
  },
  {
   "cell_type": "code",
   "execution_count": 4,
   "id": "71fa7968",
   "metadata": {},
   "outputs": [
    {
     "name": "stderr",
     "output_type": "stream",
     "text": [
      "100%|█████████████████████████████████████████████| 5/5 [00:03<00:00,  1.51it/s]\n"
     ]
    }
   ],
   "source": [
    "for train_idx, val_idx in tqdm(splits):\n",
    "    X_train, y_train = df[\"text\"].iloc[train_idx], df[\"target\"].iloc[train_idx]\n",
    "    X_val, y_val = df[\"text\"].iloc[val_idx], df[\"target\"].iloc[val_idx]\n",
    "    \n",
    "    vectorizer = TfidfVectorizer()\n",
    "    X_train = vectorizer.fit_transform(X_train)\n",
    "    X_val = vectorizer.transform(X_val)\n",
    "    \n",
    "    model = LGBMClassifier()\n",
    "    model.fit(X_train, y_train)\n",
    "    \n",
    "    preds = model.predict(X_val)\n",
    "    df.loc[val_idx, \"pred\"] = preds"
   ]
  },
  {
   "cell_type": "code",
   "execution_count": 5,
   "id": "b177a19e",
   "metadata": {},
   "outputs": [
    {
     "name": "stdout",
     "output_type": "stream",
     "text": [
      "              precision    recall  f1-score   support\n",
      "\n",
      "      INSULT       0.59      0.55      0.57      2419\n",
      "       OTHER       0.54      0.81      0.65      3616\n",
      "   PROFANITY       0.88      0.60      0.71      2398\n",
      "      RACIST       0.76      0.51      0.61      2072\n",
      "      SEXIST       0.83      0.77      0.80      2112\n",
      "\n",
      "    accuracy                           0.66     12617\n",
      "   macro avg       0.72      0.65      0.67     12617\n",
      "weighted avg       0.70      0.66      0.66     12617\n",
      "\n"
     ]
    }
   ],
   "source": [
    "print(classification_report(df[\"target\"], df[\"pred\"]))"
   ]
  }
 ],
 "metadata": {
  "kernelspec": {
   "display_name": "Python 3 (ipykernel)",
   "language": "python",
   "name": "python3"
  },
  "language_info": {
   "codemirror_mode": {
    "name": "ipython",
    "version": 3
   },
   "file_extension": ".py",
   "mimetype": "text/x-python",
   "name": "python",
   "nbconvert_exporter": "python",
   "pygments_lexer": "ipython3",
   "version": "3.8.10"
  }
 },
 "nbformat": 4,
 "nbformat_minor": 5
}
