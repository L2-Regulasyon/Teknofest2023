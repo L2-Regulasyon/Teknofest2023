{
 "cells": [
  {
   "cell_type": "code",
   "execution_count": 1,
   "id": "b1db618b",
   "metadata": {},
   "outputs": [],
   "source": [
    "import sys\n",
    "sys.path.append('../src')\n",
    "\n",
    "from utils.data_utils import read_training_data, read_model_zoo\n",
    "from utils.pipeline_utils import run_cv\n",
    "from models.tfidf_model import TfidfModel"
   ]
  },
  {
   "cell_type": "code",
   "execution_count": 2,
   "id": "38a0bad4",
   "metadata": {},
   "outputs": [
    {
     "data": {
      "text/html": [
       "<div>\n",
       "<style scoped>\n",
       "    .dataframe tbody tr th:only-of-type {\n",
       "        vertical-align: middle;\n",
       "    }\n",
       "\n",
       "    .dataframe tbody tr th {\n",
       "        vertical-align: top;\n",
       "    }\n",
       "\n",
       "    .dataframe thead th {\n",
       "        text-align: right;\n",
       "    }\n",
       "</style>\n",
       "<table border=\"1\" class=\"dataframe\">\n",
       "  <thead>\n",
       "    <tr style=\"text-align: right;\">\n",
       "      <th></th>\n",
       "      <th>id</th>\n",
       "      <th>text</th>\n",
       "      <th>is_offensive</th>\n",
       "      <th>target</th>\n",
       "      <th>text_len</th>\n",
       "      <th>target_label</th>\n",
       "      <th>public_fold</th>\n",
       "      <th>private_fold</th>\n",
       "      <th>pred</th>\n",
       "    </tr>\n",
       "  </thead>\n",
       "  <tbody>\n",
       "    <tr>\n",
       "      <th>0</th>\n",
       "      <td>81c11060-a240-4d54-841b-9e2916039e85</td>\n",
       "      <td>çürük dişli</td>\n",
       "      <td>1</td>\n",
       "      <td>INSULT</td>\n",
       "      <td>11</td>\n",
       "      <td>4</td>\n",
       "      <td>1</td>\n",
       "      <td>0</td>\n",
       "      <td>OTHER</td>\n",
       "    </tr>\n",
       "    <tr>\n",
       "      <th>1</th>\n",
       "      <td>be80ebbf-b322-4c3b-afa1-94932ea80731</td>\n",
       "      <td>bu adamın islama ve müslümanlara verdiği zarar...</td>\n",
       "      <td>1</td>\n",
       "      <td>RACIST</td>\n",
       "      <td>67</td>\n",
       "      <td>3</td>\n",
       "      <td>3</td>\n",
       "      <td>0</td>\n",
       "      <td>OTHER</td>\n",
       "    </tr>\n",
       "    <tr>\n",
       "      <th>2</th>\n",
       "      <td>f99e2513-83ed-4076-ac72-b9e2cff3f049</td>\n",
       "      <td>erkekler zora gelmez</td>\n",
       "      <td>1</td>\n",
       "      <td>SEXIST</td>\n",
       "      <td>20</td>\n",
       "      <td>2</td>\n",
       "      <td>2</td>\n",
       "      <td>0</td>\n",
       "      <td>OTHER</td>\n",
       "    </tr>\n",
       "    <tr>\n",
       "      <th>3</th>\n",
       "      <td>83ed2b2e-b815-4f36-9fc4-80a9050cf2d0</td>\n",
       "      <td>utanmazın götüne kazık sokmuşlar bu tıkırtı ne...</td>\n",
       "      <td>1</td>\n",
       "      <td>PROFANITY</td>\n",
       "      <td>65</td>\n",
       "      <td>1</td>\n",
       "      <td>4</td>\n",
       "      <td>0</td>\n",
       "      <td>OTHER</td>\n",
       "    </tr>\n",
       "    <tr>\n",
       "      <th>4</th>\n",
       "      <td>d93e05f7-bfdd-4cdb-99d8-3048761b30ff</td>\n",
       "      <td>otomasyon&lt; sistemlerine= doğrudan bağlanabilir</td>\n",
       "      <td>0</td>\n",
       "      <td>OTHER</td>\n",
       "      <td>46</td>\n",
       "      <td>0</td>\n",
       "      <td>4</td>\n",
       "      <td>0</td>\n",
       "      <td>OTHER</td>\n",
       "    </tr>\n",
       "  </tbody>\n",
       "</table>\n",
       "</div>"
      ],
      "text/plain": [
       "                                     id  \\\n",
       "0  81c11060-a240-4d54-841b-9e2916039e85   \n",
       "1  be80ebbf-b322-4c3b-afa1-94932ea80731   \n",
       "2  f99e2513-83ed-4076-ac72-b9e2cff3f049   \n",
       "3  83ed2b2e-b815-4f36-9fc4-80a9050cf2d0   \n",
       "4  d93e05f7-bfdd-4cdb-99d8-3048761b30ff   \n",
       "\n",
       "                                                text  is_offensive     target  \\\n",
       "0                                        çürük dişli             1     INSULT   \n",
       "1  bu adamın islama ve müslümanlara verdiği zarar...             1     RACIST   \n",
       "2                               erkekler zora gelmez             1     SEXIST   \n",
       "3  utanmazın götüne kazık sokmuşlar bu tıkırtı ne...             1  PROFANITY   \n",
       "4     otomasyon< sistemlerine= doğrudan bağlanabilir             0      OTHER   \n",
       "\n",
       "   text_len  target_label  public_fold  private_fold   pred  \n",
       "0        11             4            1             0  OTHER  \n",
       "1        67             3            3             0  OTHER  \n",
       "2        20             2            2             0  OTHER  \n",
       "3        65             1            4             0  OTHER  \n",
       "4        46             0            4             0  OTHER  "
      ]
     },
     "execution_count": 2,
     "metadata": {},
     "output_type": "execute_result"
    }
   ],
   "source": [
    "df = read_training_data()\n",
    "df.head()"
   ]
  },
  {
   "cell_type": "code",
   "execution_count": 3,
   "id": "c824f5b7",
   "metadata": {},
   "outputs": [
    {
     "data": {
      "application/vnd.jupyter.widget-view+json": {
       "model_id": "d58499d1d7874d33a08c54c1c44923da",
       "version_major": 2,
       "version_minor": 0
      },
      "text/plain": [
       "Training.. Fold:   0%|          | 0/5 [00:00<?, ?it/s]"
      ]
     },
     "metadata": {},
     "output_type": "display_data"
    },
    {
     "name": "stdout",
     "output_type": "stream",
     "text": [
      "              precision    recall  f1-score   support\n",
      "\n",
      "      INSULT       0.59      0.56      0.57      2393\n",
      "       OTHER       0.55      0.82      0.66      3528\n",
      "   PROFANITY       0.88      0.59      0.71      2376\n",
      "      RACIST       0.75      0.51      0.61      2033\n",
      "      SEXIST       0.84      0.77      0.81      2081\n",
      "\n",
      "    accuracy                           0.67     12411\n",
      "   macro avg       0.72      0.65      0.67     12411\n",
      "weighted avg       0.70      0.67      0.67     12411\n",
      "\n",
      "The result is logged to the model zoo!\n"
     ]
    }
   ],
   "source": [
    "result_dict = run_cv(model_obj=TfidfModel(),\n",
    "                     input_df=df,\n",
    "                     fold_col=\"public_fold\",\n",
    "                     x_col=\"text\",\n",
    "                     y_col=\"target\",\n",
    "                     experiment_name=\"TFIDF + LGB\",\n",
    "                     add_to_zoo=True\n",
    "                    )"
   ]
  }
 ],
 "metadata": {
  "kernelspec": {
   "display_name": "Python 3 (ipykernel)",
   "language": "python",
   "name": "python3"
  },
  "language_info": {
   "codemirror_mode": {
    "name": "ipython",
    "version": 3
   },
   "file_extension": ".py",
   "mimetype": "text/x-python",
   "name": "python",
   "nbconvert_exporter": "python",
   "pygments_lexer": "ipython3",
   "version": "3.8.10"
  }
 },
 "nbformat": 4,
 "nbformat_minor": 5
}
