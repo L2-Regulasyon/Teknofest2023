{
 "cells": [
  {
   "cell_type": "code",
   "execution_count": 1,
   "id": "b333ea90",
   "metadata": {},
   "outputs": [],
   "source": [
    "import pandas as pd\n",
    "import numpy as np\n",
    "from tqdm.notebook import tqdm\n",
    "tqdm.pandas()\n",
    "pd.set_option('display.max_rows', 500)\n",
    "pd.set_option('display.max_columns', 500)\n",
    "from sklearn.model_selection import KFold\n",
    "from sklearn.metrics import classification_report\n",
    "from sentence_transformers import SentenceTransformer, util"
   ]
  },
  {
   "cell_type": "code",
   "execution_count": 2,
   "id": "bae5847f",
   "metadata": {},
   "outputs": [],
   "source": [
    "df = pd.read_csv('data/df_folds.csv')"
   ]
  },
  {
   "cell_type": "code",
   "execution_count": 3,
   "id": "44a2af38",
   "metadata": {},
   "outputs": [
    {
     "data": {
      "application/vnd.jupyter.widget-view+json": {
       "model_id": "318a7e62a39540e4ba0cebb00543c684",
       "version_major": 2,
       "version_minor": 0
      },
      "text/plain": [
       "  0%|          | 0/12617 [00:00<?, ?it/s]"
      ]
     },
     "metadata": {},
     "output_type": "display_data"
    }
   ],
   "source": [
    "df['text_len'] = df.text.progress_apply(lambda x: len(x))\n",
    "df = df[df.text_len>=3]\n",
    "df = df[~((df.target=='OTHER')&(df.is_offensive==1))]\n",
    "df = df.reset_index(drop=True)"
   ]
  },
  {
   "cell_type": "code",
   "execution_count": 4,
   "id": "7e52d008",
   "metadata": {
    "scrolled": true
   },
   "outputs": [
    {
     "data": {
      "text/html": [
       "<div>\n",
       "<style scoped>\n",
       "    .dataframe tbody tr th:only-of-type {\n",
       "        vertical-align: middle;\n",
       "    }\n",
       "\n",
       "    .dataframe tbody tr th {\n",
       "        vertical-align: top;\n",
       "    }\n",
       "\n",
       "    .dataframe thead th {\n",
       "        text-align: right;\n",
       "    }\n",
       "</style>\n",
       "<table border=\"1\" class=\"dataframe\">\n",
       "  <thead>\n",
       "    <tr style=\"text-align: right;\">\n",
       "      <th></th>\n",
       "      <th>id</th>\n",
       "      <th>text</th>\n",
       "      <th>is_offensive</th>\n",
       "      <th>target</th>\n",
       "      <th>fold</th>\n",
       "      <th>text_len</th>\n",
       "    </tr>\n",
       "  </thead>\n",
       "  <tbody>\n",
       "    <tr>\n",
       "      <th>0</th>\n",
       "      <td>81c11060-a240-4d54-841b-9e2916039e85</td>\n",
       "      <td>çürük dişli</td>\n",
       "      <td>1</td>\n",
       "      <td>INSULT</td>\n",
       "      <td>2</td>\n",
       "      <td>11</td>\n",
       "    </tr>\n",
       "    <tr>\n",
       "      <th>1</th>\n",
       "      <td>be80ebbf-b322-4c3b-afa1-94932ea80731</td>\n",
       "      <td>Bu adamın islama ve müslümanlara verdiği zarar...</td>\n",
       "      <td>1</td>\n",
       "      <td>RACIST</td>\n",
       "      <td>0</td>\n",
       "      <td>67</td>\n",
       "    </tr>\n",
       "    <tr>\n",
       "      <th>2</th>\n",
       "      <td>f99e2513-83ed-4076-ac72-b9e2cff3f049</td>\n",
       "      <td>erkekler zora gelmez</td>\n",
       "      <td>1</td>\n",
       "      <td>SEXIST</td>\n",
       "      <td>1</td>\n",
       "      <td>20</td>\n",
       "    </tr>\n",
       "    <tr>\n",
       "      <th>3</th>\n",
       "      <td>83ed2b2e-b815-4f36-9fc4-80a9050cf2d0</td>\n",
       "      <td>Utanmazın götüne kazık sokmuşlar bu tıkırtı ne...</td>\n",
       "      <td>1</td>\n",
       "      <td>PROFANITY</td>\n",
       "      <td>3</td>\n",
       "      <td>65</td>\n",
       "    </tr>\n",
       "    <tr>\n",
       "      <th>4</th>\n",
       "      <td>d93e05f7-bfdd-4cdb-99d8-3048761b30ff</td>\n",
       "      <td>otomasyon&lt; sistemlerine= doğrudan bağlanabilir</td>\n",
       "      <td>0</td>\n",
       "      <td>OTHER</td>\n",
       "      <td>1</td>\n",
       "      <td>46</td>\n",
       "    </tr>\n",
       "    <tr>\n",
       "      <th>...</th>\n",
       "      <td>...</td>\n",
       "      <td>...</td>\n",
       "      <td>...</td>\n",
       "      <td>...</td>\n",
       "      <td>...</td>\n",
       "      <td>...</td>\n",
       "    </tr>\n",
       "    <tr>\n",
       "      <th>12406</th>\n",
       "      <td>71eedfa1-8fa6-425c-b982-258c3b29c003</td>\n",
       "      <td>uyuma taklidi yapan tehlikeli bir hayvanın göz...</td>\n",
       "      <td>0</td>\n",
       "      <td>OTHER</td>\n",
       "      <td>0</td>\n",
       "      <td>63</td>\n",
       "    </tr>\n",
       "    <tr>\n",
       "      <th>12407</th>\n",
       "      <td>b38eed16-6501-4563-8b33-ff2e634bb8e5</td>\n",
       "      <td>yolda at kavga eden üç oğlan çocuğu görür</td>\n",
       "      <td>0</td>\n",
       "      <td>OTHER</td>\n",
       "      <td>3</td>\n",
       "      <td>41</td>\n",
       "    </tr>\n",
       "    <tr>\n",
       "      <th>12408</th>\n",
       "      <td>c8a051a8-94ef-4b64-a48e-54d0fa4f8323</td>\n",
       "      <td>sizin köpeklerinizin burnu bile daha iyi koku ...</td>\n",
       "      <td>0</td>\n",
       "      <td>OTHER</td>\n",
       "      <td>0</td>\n",
       "      <td>66</td>\n",
       "    </tr>\n",
       "    <tr>\n",
       "      <th>12409</th>\n",
       "      <td>513a7e6d-4207-4a16-9b47-972f26e23cfe</td>\n",
       "      <td>hayalleri gerçek etmek için birisinin delilik ...</td>\n",
       "      <td>0</td>\n",
       "      <td>OTHER</td>\n",
       "      <td>2</td>\n",
       "      <td>90</td>\n",
       "    </tr>\n",
       "    <tr>\n",
       "      <th>12410</th>\n",
       "      <td>247834c9-ad37-4576-a094-69d70c69b124</td>\n",
       "      <td>deliklerden birini bulsan diğerini bulamıyorsu...</td>\n",
       "      <td>0</td>\n",
       "      <td>OTHER</td>\n",
       "      <td>3</td>\n",
       "      <td>91</td>\n",
       "    </tr>\n",
       "  </tbody>\n",
       "</table>\n",
       "<p>12411 rows × 6 columns</p>\n",
       "</div>"
      ],
      "text/plain": [
       "                                         id  \\\n",
       "0      81c11060-a240-4d54-841b-9e2916039e85   \n",
       "1      be80ebbf-b322-4c3b-afa1-94932ea80731   \n",
       "2      f99e2513-83ed-4076-ac72-b9e2cff3f049   \n",
       "3      83ed2b2e-b815-4f36-9fc4-80a9050cf2d0   \n",
       "4      d93e05f7-bfdd-4cdb-99d8-3048761b30ff   \n",
       "...                                     ...   \n",
       "12406  71eedfa1-8fa6-425c-b982-258c3b29c003   \n",
       "12407  b38eed16-6501-4563-8b33-ff2e634bb8e5   \n",
       "12408  c8a051a8-94ef-4b64-a48e-54d0fa4f8323   \n",
       "12409  513a7e6d-4207-4a16-9b47-972f26e23cfe   \n",
       "12410  247834c9-ad37-4576-a094-69d70c69b124   \n",
       "\n",
       "                                                    text  is_offensive  \\\n",
       "0                                            çürük dişli             1   \n",
       "1      Bu adamın islama ve müslümanlara verdiği zarar...             1   \n",
       "2                                   erkekler zora gelmez             1   \n",
       "3      Utanmazın götüne kazık sokmuşlar bu tıkırtı ne...             1   \n",
       "4         otomasyon< sistemlerine= doğrudan bağlanabilir             0   \n",
       "...                                                  ...           ...   \n",
       "12406  uyuma taklidi yapan tehlikeli bir hayvanın göz...             0   \n",
       "12407          yolda at kavga eden üç oğlan çocuğu görür             0   \n",
       "12408  sizin köpeklerinizin burnu bile daha iyi koku ...             0   \n",
       "12409  hayalleri gerçek etmek için birisinin delilik ...             0   \n",
       "12410  deliklerden birini bulsan diğerini bulamıyorsu...             0   \n",
       "\n",
       "          target  fold  text_len  \n",
       "0         INSULT     2        11  \n",
       "1         RACIST     0        67  \n",
       "2         SEXIST     1        20  \n",
       "3      PROFANITY     3        65  \n",
       "4          OTHER     1        46  \n",
       "...          ...   ...       ...  \n",
       "12406      OTHER     0        63  \n",
       "12407      OTHER     3        41  \n",
       "12408      OTHER     0        66  \n",
       "12409      OTHER     2        90  \n",
       "12410      OTHER     3        91  \n",
       "\n",
       "[12411 rows x 6 columns]"
      ]
     },
     "execution_count": 4,
     "metadata": {},
     "output_type": "execute_result"
    }
   ],
   "source": [
    "df"
   ]
  },
  {
   "cell_type": "code",
   "execution_count": 5,
   "id": "a12d3bf1",
   "metadata": {},
   "outputs": [],
   "source": [
    "model = SentenceTransformer('sentence-transformers/paraphrase-multilingual-mpnet-base-v2')"
   ]
  },
  {
   "cell_type": "code",
   "execution_count": 6,
   "id": "9803754a",
   "metadata": {},
   "outputs": [
    {
     "data": {
      "application/vnd.jupyter.widget-view+json": {
       "model_id": "ed4640879cee44ef9ef19a83d9af6d13",
       "version_major": 2,
       "version_minor": 0
      },
      "text/plain": [
       "Batches:   0%|          | 0/776 [00:00<?, ?it/s]"
      ]
     },
     "metadata": {},
     "output_type": "display_data"
    }
   ],
   "source": [
    "embeddings = model.encode(df['text'], convert_to_tensor=False,batch_size=16,show_progress_bar=True)"
   ]
  },
  {
   "cell_type": "code",
   "execution_count": 7,
   "id": "bd9aa03c",
   "metadata": {},
   "outputs": [],
   "source": [
    "target_dict = {'OTHER':0,'PROFANITY':1,'SEXIST':2,'RACIST':3,'INSULT':4}\n",
    "df['target'] = df['target'].map(target_dict)\n",
    "y = df['target']"
   ]
  },
  {
   "cell_type": "code",
   "execution_count": 11,
   "id": "f78c9bcf",
   "metadata": {
    "scrolled": true
   },
   "outputs": [
    {
     "name": "stdout",
     "output_type": "stream",
     "text": [
      "Fold 1/5\n",
      "Training until validation scores don't improve for 100 rounds\n",
      "[100]\ttraining's multi_logloss: 0.929662\tvalid_1's multi_logloss: 1.03404\n",
      "[200]\ttraining's multi_logloss: 0.661691\tvalid_1's multi_logloss: 0.825287\n",
      "[300]\ttraining's multi_logloss: 0.511279\tvalid_1's multi_logloss: 0.721933\n",
      "[400]\ttraining's multi_logloss: 0.410465\tvalid_1's multi_logloss: 0.66495\n",
      "[500]\ttraining's multi_logloss: 0.335065\tvalid_1's multi_logloss: 0.628133\n",
      "[600]\ttraining's multi_logloss: 0.276237\tvalid_1's multi_logloss: 0.602806\n",
      "[700]\ttraining's multi_logloss: 0.22858\tvalid_1's multi_logloss: 0.583189\n",
      "[800]\ttraining's multi_logloss: 0.190064\tvalid_1's multi_logloss: 0.568938\n",
      "[900]\ttraining's multi_logloss: 0.158476\tvalid_1's multi_logloss: 0.558436\n",
      "[1000]\ttraining's multi_logloss: 0.132503\tvalid_1's multi_logloss: 0.54982\n",
      "[1100]\ttraining's multi_logloss: 0.111134\tvalid_1's multi_logloss: 0.543438\n",
      "[1200]\ttraining's multi_logloss: 0.0934583\tvalid_1's multi_logloss: 0.538273\n",
      "[1300]\ttraining's multi_logloss: 0.0787229\tvalid_1's multi_logloss: 0.534587\n",
      "[1400]\ttraining's multi_logloss: 0.0664137\tvalid_1's multi_logloss: 0.532045\n",
      "[1500]\ttraining's multi_logloss: 0.0561493\tvalid_1's multi_logloss: 0.530687\n",
      "[1600]\ttraining's multi_logloss: 0.0475533\tvalid_1's multi_logloss: 0.529996\n",
      "[1700]\ttraining's multi_logloss: 0.0402884\tvalid_1's multi_logloss: 0.529948\n",
      "Early stopping, best iteration is:\n",
      "[1633]\ttraining's multi_logloss: 0.0450168\tvalid_1's multi_logloss: 0.529797\n",
      "Fold 1 F1: 0.8041\n",
      "**************************************************\n",
      "Fold 2/5\n"
     ]
    },
    {
     "name": "stderr",
     "output_type": "stream",
     "text": [
      "/home/ubuntu/anaconda3/lib/python3.9/site-packages/lightgbm/engine.py:181: UserWarning: 'early_stopping_rounds' argument is deprecated and will be removed in a future release of LightGBM. Pass 'early_stopping()' callback via 'callbacks' argument instead.\n",
      "  _log_warning(\"'early_stopping_rounds' argument is deprecated and will be removed in a future release of LightGBM. \"\n",
      "/home/ubuntu/anaconda3/lib/python3.9/site-packages/lightgbm/engine.py:239: UserWarning: 'verbose_eval' argument is deprecated and will be removed in a future release of LightGBM. Pass 'log_evaluation()' callback via 'callbacks' argument instead.\n",
      "  _log_warning(\"'verbose_eval' argument is deprecated and will be removed in a future release of LightGBM. \"\n"
     ]
    },
    {
     "name": "stdout",
     "output_type": "stream",
     "text": [
      "Training until validation scores don't improve for 100 rounds\n",
      "[100]\ttraining's multi_logloss: 0.930104\tvalid_1's multi_logloss: 1.0316\n",
      "[200]\ttraining's multi_logloss: 0.661231\tvalid_1's multi_logloss: 0.823224\n",
      "[300]\ttraining's multi_logloss: 0.510008\tvalid_1's multi_logloss: 0.724032\n",
      "[400]\ttraining's multi_logloss: 0.408704\tvalid_1's multi_logloss: 0.6688\n",
      "[500]\ttraining's multi_logloss: 0.333308\tvalid_1's multi_logloss: 0.634726\n",
      "[600]\ttraining's multi_logloss: 0.27442\tvalid_1's multi_logloss: 0.611539\n",
      "[700]\ttraining's multi_logloss: 0.226965\tvalid_1's multi_logloss: 0.594598\n",
      "[800]\ttraining's multi_logloss: 0.188742\tvalid_1's multi_logloss: 0.582952\n",
      "[900]\ttraining's multi_logloss: 0.157401\tvalid_1's multi_logloss: 0.573376\n",
      "[1000]\ttraining's multi_logloss: 0.131629\tvalid_1's multi_logloss: 0.566494\n",
      "[1100]\ttraining's multi_logloss: 0.110332\tvalid_1's multi_logloss: 0.560905\n",
      "[1200]\ttraining's multi_logloss: 0.0927284\tvalid_1's multi_logloss: 0.557073\n",
      "[1300]\ttraining's multi_logloss: 0.0781415\tvalid_1's multi_logloss: 0.554245\n",
      "[1400]\ttraining's multi_logloss: 0.0659416\tvalid_1's multi_logloss: 0.553113\n",
      "[1500]\ttraining's multi_logloss: 0.055757\tvalid_1's multi_logloss: 0.552544\n",
      "[1600]\ttraining's multi_logloss: 0.0472244\tvalid_1's multi_logloss: 0.552473\n",
      "Early stopping, best iteration is:\n",
      "[1513]\ttraining's multi_logloss: 0.0545654\tvalid_1's multi_logloss: 0.552389\n",
      "Fold 2 F1: 0.7885\n",
      "**************************************************\n",
      "Fold 3/5\n"
     ]
    },
    {
     "name": "stderr",
     "output_type": "stream",
     "text": [
      "/home/ubuntu/anaconda3/lib/python3.9/site-packages/lightgbm/engine.py:181: UserWarning: 'early_stopping_rounds' argument is deprecated and will be removed in a future release of LightGBM. Pass 'early_stopping()' callback via 'callbacks' argument instead.\n",
      "  _log_warning(\"'early_stopping_rounds' argument is deprecated and will be removed in a future release of LightGBM. \"\n",
      "/home/ubuntu/anaconda3/lib/python3.9/site-packages/lightgbm/engine.py:239: UserWarning: 'verbose_eval' argument is deprecated and will be removed in a future release of LightGBM. Pass 'log_evaluation()' callback via 'callbacks' argument instead.\n",
      "  _log_warning(\"'verbose_eval' argument is deprecated and will be removed in a future release of LightGBM. \"\n"
     ]
    },
    {
     "name": "stdout",
     "output_type": "stream",
     "text": [
      "Training until validation scores don't improve for 100 rounds\n",
      "[100]\ttraining's multi_logloss: 0.933289\tvalid_1's multi_logloss: 1.02087\n",
      "[200]\ttraining's multi_logloss: 0.665744\tvalid_1's multi_logloss: 0.808531\n",
      "[300]\ttraining's multi_logloss: 0.515152\tvalid_1's multi_logloss: 0.705066\n",
      "[400]\ttraining's multi_logloss: 0.413387\tvalid_1's multi_logloss: 0.6477\n",
      "[500]\ttraining's multi_logloss: 0.337619\tvalid_1's multi_logloss: 0.610901\n",
      "[600]\ttraining's multi_logloss: 0.278479\tvalid_1's multi_logloss: 0.585822\n",
      "[700]\ttraining's multi_logloss: 0.230835\tvalid_1's multi_logloss: 0.567237\n",
      "[800]\ttraining's multi_logloss: 0.192092\tvalid_1's multi_logloss: 0.553602\n",
      "[900]\ttraining's multi_logloss: 0.160334\tvalid_1's multi_logloss: 0.54336\n",
      "[1000]\ttraining's multi_logloss: 0.134243\tvalid_1's multi_logloss: 0.53509\n",
      "[1100]\ttraining's multi_logloss: 0.1127\tvalid_1's multi_logloss: 0.528238\n",
      "[1200]\ttraining's multi_logloss: 0.0948619\tvalid_1's multi_logloss: 0.523655\n",
      "[1300]\ttraining's multi_logloss: 0.0800233\tvalid_1's multi_logloss: 0.520642\n",
      "[1400]\ttraining's multi_logloss: 0.067594\tvalid_1's multi_logloss: 0.518292\n",
      "[1500]\ttraining's multi_logloss: 0.0572358\tvalid_1's multi_logloss: 0.51633\n",
      "[1600]\ttraining's multi_logloss: 0.0485173\tvalid_1's multi_logloss: 0.515236\n",
      "[1700]\ttraining's multi_logloss: 0.0412073\tvalid_1's multi_logloss: 0.515529\n",
      "Early stopping, best iteration is:\n",
      "[1638]\ttraining's multi_logloss: 0.0455997\tvalid_1's multi_logloss: 0.515037\n",
      "Fold 3 F1: 0.8177\n",
      "**************************************************\n",
      "Fold 4/5\n"
     ]
    },
    {
     "name": "stderr",
     "output_type": "stream",
     "text": [
      "/home/ubuntu/anaconda3/lib/python3.9/site-packages/lightgbm/engine.py:181: UserWarning: 'early_stopping_rounds' argument is deprecated and will be removed in a future release of LightGBM. Pass 'early_stopping()' callback via 'callbacks' argument instead.\n",
      "  _log_warning(\"'early_stopping_rounds' argument is deprecated and will be removed in a future release of LightGBM. \"\n",
      "/home/ubuntu/anaconda3/lib/python3.9/site-packages/lightgbm/engine.py:239: UserWarning: 'verbose_eval' argument is deprecated and will be removed in a future release of LightGBM. Pass 'log_evaluation()' callback via 'callbacks' argument instead.\n",
      "  _log_warning(\"'verbose_eval' argument is deprecated and will be removed in a future release of LightGBM. \"\n"
     ]
    },
    {
     "name": "stdout",
     "output_type": "stream",
     "text": [
      "Training until validation scores don't improve for 100 rounds\n",
      "[100]\ttraining's multi_logloss: 0.929552\tvalid_1's multi_logloss: 1.03334\n",
      "[200]\ttraining's multi_logloss: 0.660896\tvalid_1's multi_logloss: 0.82362\n",
      "[300]\ttraining's multi_logloss: 0.510684\tvalid_1's multi_logloss: 0.722941\n",
      "[400]\ttraining's multi_logloss: 0.409325\tvalid_1's multi_logloss: 0.666764\n",
      "[500]\ttraining's multi_logloss: 0.333946\tvalid_1's multi_logloss: 0.630899\n",
      "[600]\ttraining's multi_logloss: 0.275065\tvalid_1's multi_logloss: 0.606814\n",
      "[700]\ttraining's multi_logloss: 0.227686\tvalid_1's multi_logloss: 0.588707\n",
      "[800]\ttraining's multi_logloss: 0.189109\tvalid_1's multi_logloss: 0.57522\n",
      "[900]\ttraining's multi_logloss: 0.157636\tvalid_1's multi_logloss: 0.564744\n",
      "[1000]\ttraining's multi_logloss: 0.131769\tvalid_1's multi_logloss: 0.557012\n",
      "[1100]\ttraining's multi_logloss: 0.110489\tvalid_1's multi_logloss: 0.551572\n",
      "[1200]\ttraining's multi_logloss: 0.0928389\tvalid_1's multi_logloss: 0.547343\n",
      "[1300]\ttraining's multi_logloss: 0.0781883\tvalid_1's multi_logloss: 0.544703\n",
      "[1400]\ttraining's multi_logloss: 0.0659614\tvalid_1's multi_logloss: 0.543065\n",
      "[1500]\ttraining's multi_logloss: 0.0557905\tvalid_1's multi_logloss: 0.541986\n",
      "[1600]\ttraining's multi_logloss: 0.0472576\tvalid_1's multi_logloss: 0.541297\n",
      "[1700]\ttraining's multi_logloss: 0.0401003\tvalid_1's multi_logloss: 0.541751\n",
      "Early stopping, best iteration is:\n",
      "[1656]\ttraining's multi_logloss: 0.0431062\tvalid_1's multi_logloss: 0.54118\n",
      "Fold 4 F1: 0.8042\n",
      "**************************************************\n",
      "Fold 5/5\n"
     ]
    },
    {
     "name": "stderr",
     "output_type": "stream",
     "text": [
      "/home/ubuntu/anaconda3/lib/python3.9/site-packages/lightgbm/engine.py:181: UserWarning: 'early_stopping_rounds' argument is deprecated and will be removed in a future release of LightGBM. Pass 'early_stopping()' callback via 'callbacks' argument instead.\n",
      "  _log_warning(\"'early_stopping_rounds' argument is deprecated and will be removed in a future release of LightGBM. \"\n",
      "/home/ubuntu/anaconda3/lib/python3.9/site-packages/lightgbm/engine.py:239: UserWarning: 'verbose_eval' argument is deprecated and will be removed in a future release of LightGBM. Pass 'log_evaluation()' callback via 'callbacks' argument instead.\n",
      "  _log_warning(\"'verbose_eval' argument is deprecated and will be removed in a future release of LightGBM. \"\n"
     ]
    },
    {
     "name": "stdout",
     "output_type": "stream",
     "text": [
      "Training until validation scores don't improve for 100 rounds\n",
      "[100]\ttraining's multi_logloss: 0.930179\tvalid_1's multi_logloss: 1.0321\n",
      "[200]\ttraining's multi_logloss: 0.662297\tvalid_1's multi_logloss: 0.822556\n",
      "[300]\ttraining's multi_logloss: 0.51229\tvalid_1's multi_logloss: 0.720818\n",
      "[400]\ttraining's multi_logloss: 0.410929\tvalid_1's multi_logloss: 0.661712\n",
      "[500]\ttraining's multi_logloss: 0.335588\tvalid_1's multi_logloss: 0.624356\n",
      "[600]\ttraining's multi_logloss: 0.276852\tvalid_1's multi_logloss: 0.598915\n",
      "[700]\ttraining's multi_logloss: 0.229393\tvalid_1's multi_logloss: 0.580427\n",
      "[800]\ttraining's multi_logloss: 0.190796\tvalid_1's multi_logloss: 0.56647\n",
      "[900]\ttraining's multi_logloss: 0.159193\tvalid_1's multi_logloss: 0.55597\n",
      "[1000]\ttraining's multi_logloss: 0.133104\tvalid_1's multi_logloss: 0.54711\n",
      "[1100]\ttraining's multi_logloss: 0.111651\tvalid_1's multi_logloss: 0.540094\n",
      "[1200]\ttraining's multi_logloss: 0.0938855\tvalid_1's multi_logloss: 0.534834\n",
      "[1300]\ttraining's multi_logloss: 0.0791028\tvalid_1's multi_logloss: 0.531128\n",
      "[1400]\ttraining's multi_logloss: 0.0667836\tvalid_1's multi_logloss: 0.528542\n",
      "[1500]\ttraining's multi_logloss: 0.0565062\tvalid_1's multi_logloss: 0.527443\n",
      "[1600]\ttraining's multi_logloss: 0.047887\tvalid_1's multi_logloss: 0.526613\n",
      "[1700]\ttraining's multi_logloss: 0.0406131\tvalid_1's multi_logloss: 0.526592\n",
      "Early stopping, best iteration is:\n",
      "[1642]\ttraining's multi_logloss: 0.0446812\tvalid_1's multi_logloss: 0.526203\n",
      "Fold 5 F1: 0.8112\n",
      "**************************************************\n",
      "OOF F1: 0.8052\n"
     ]
    }
   ],
   "source": [
    "import numpy as np\n",
    "import pandas as pd\n",
    "import lightgbm as lgb\n",
    "from sklearn.model_selection import KFold\n",
    "from sklearn.metrics import f1_score\n",
    "\n",
    "n_classes = 5\n",
    "# Define hyperparameters for the LightGBM model\n",
    "params = {\n",
    "    'objective': 'multiclass',\n",
    "    'num_class': n_classes,\n",
    "    'metric': 'multi_logloss',\n",
    "    'boosting_type': 'gbdt',\n",
    "    'num_leaves': 31,\n",
    "    'learning_rate': 0.008,\n",
    "    'feature_fraction': 0.1,\n",
    "    'bagging_fraction': 0.8,\n",
    "    'bagging_freq': 5,\n",
    "    'verbose': -1,\n",
    "    'random_state': 42\n",
    "}\n",
    "\n",
    "# Initialize empty arrays to store out-of-fold predictions\n",
    "oof_preds = np.zeros((y.shape[0], n_classes))\n",
    "\n",
    "# Define k-fold cross-validation strategy\n",
    "n_splits = df.fold.nunique()\n",
    "val_scores = []\n",
    "# Loop over the folds\n",
    "for fold in range(n_splits):\n",
    "    print(f'Fold {fold+1}/{n_splits}')\n",
    "    val_idx = df[df.fold == fold].index\n",
    "    train_idx = df[df.fold != fold].index\n",
    "    \n",
    "    # Split data into train and validation sets for this fold\n",
    "    X_train, y_train = embeddings[train_idx], y[train_idx]\n",
    "    X_val, y_val = embeddings[val_idx], y[val_idx]\n",
    "\n",
    "    # Create LightGBM datasets\n",
    "    lgb_train = lgb.Dataset(X_train, y_train)\n",
    "    lgb_val = lgb.Dataset(X_val, y_val)\n",
    "\n",
    "    # Train LightGBM model for this fold\n",
    "    model = lgb.train(params,\n",
    "                      lgb_train,\n",
    "                      num_boost_round=10_000,\n",
    "                      valid_sets=[lgb_train, lgb_val],\n",
    "                      verbose_eval=100, early_stopping_rounds=100)\n",
    "\n",
    "    # Make predictions for validation set and store in oof_preds array\n",
    "    oof_preds[val_idx, :] = model.predict(X_val, num_iteration=model.best_iteration)\n",
    "    val_pred = model.predict(X_val, num_iteration=model.best_iteration)\n",
    "    val_score = f1_score(y_val, np.argmax(val_pred,axis=1), average='macro')\n",
    "    val_scores.append(val_score)\n",
    "    print(f'Fold {fold+1} F1: {val_score:.4f}')\n",
    "    print('*'*50)\n",
    "# Compute out-of-fold log loss score\n",
    "oof_score = f1_score(y, np.argmax(oof_preds,axis=1), average='macro')\n",
    "\n",
    "print(f'OOF F1: {oof_score:.4f}')"
   ]
  },
  {
   "cell_type": "code",
   "execution_count": 12,
   "id": "7da4a627",
   "metadata": {},
   "outputs": [
    {
     "name": "stdout",
     "output_type": "stream",
     "text": [
      "OOF F1: 0.8052\n",
      "CV F1 mean: 0.8051\n",
      "CV F1 std: 0.0097\n"
     ]
    }
   ],
   "source": [
    "print(f'OOF F1: {oof_score:.4f}')\n",
    "print(f'CV F1 mean: {np.mean(val_scores):.4f}')\n",
    "print(f'CV F1 std: {np.std(val_scores):.4f}')"
   ]
  },
  {
   "cell_type": "code",
   "execution_count": 15,
   "id": "29ceae49",
   "metadata": {},
   "outputs": [
    {
     "name": "stdout",
     "output_type": "stream",
     "text": [
      "              precision    recall  f1-score   support\n",
      "\n",
      "       OTHER      0.847     0.888     0.867      3528\n",
      "   PROFANITY      0.745     0.753     0.749      2376\n",
      "      SEXIST      0.896     0.872     0.884      2081\n",
      "      RACIST      0.854     0.759     0.804      2033\n",
      "      INSULT      0.710     0.736     0.722      2393\n",
      "\n",
      "    accuracy                          0.809     12411\n",
      "   macro avg      0.810     0.801     0.805     12411\n",
      "weighted avg      0.810     0.809     0.809     12411\n",
      "\n"
     ]
    }
   ],
   "source": [
    "print(classification_report(y, np.argmax(oof_preds,axis=1),target_names=target_dict.keys(),digits=3))"
   ]
  },
  {
   "cell_type": "code",
   "execution_count": null,
   "id": "16a6df44",
   "metadata": {},
   "outputs": [],
   "source": []
  }
 ],
 "metadata": {
  "kernelspec": {
   "display_name": "Python 3 (ipykernel)",
   "language": "python",
   "name": "python3"
  },
  "language_info": {
   "codemirror_mode": {
    "name": "ipython",
    "version": 3
   },
   "file_extension": ".py",
   "mimetype": "text/x-python",
   "name": "python",
   "nbconvert_exporter": "python",
   "pygments_lexer": "ipython3",
   "version": "3.9.13"
  }
 },
 "nbformat": 4,
 "nbformat_minor": 5
}
