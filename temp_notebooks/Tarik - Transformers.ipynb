{
 "cells": [
  {
   "cell_type": "code",
   "execution_count": 1,
   "id": "b333ea90",
   "metadata": {},
   "outputs": [],
   "source": [
    "import pandas as pd\n",
    "import numpy as np\n",
    "from tqdm.notebook import tqdm\n",
    "tqdm.pandas()\n",
    "pd.set_option('display.max_rows', 500)\n",
    "pd.set_option('display.max_columns', 500)\n",
    "from sklearn.model_selection import KFold\n",
    "from sklearn.metrics import classification_report\n",
    "\n",
    "import os\n",
    "import time\n",
    "import datetime\n",
    "import random\n",
    "import gc\n",
    "\n",
    "from sklearn.metrics import matthews_corrcoef\n",
    "from sklearn.metrics import accuracy_score\n",
    "\n",
    "from transformers import AutoModelForSequenceClassification\n",
    "\n",
    "from transformers import AutoConfig\n",
    "from transformers import AdamW\n",
    "from transformers import AutoTokenizer\n",
    "from transformers import get_linear_schedule_with_warmup\n",
    "\n",
    "import matplotlib.pyplot as plt\n",
    "import matplotlib.colors\n",
    "import seaborn as sns\n",
    "import IPython\n",
    "\n",
    "import torch\n",
    "from torch.utils.data import TensorDataset, random_split\n",
    "from torch.utils.data import DataLoader, RandomSampler, SequentialSampler\n",
    "os.environ[\"PYTORCH_CUDA_ALLOC_CONF\"] = \"max_split_size_mb:21\"\n",
    "os.environ[\"TOKENIZERS_PARALLELISM\"] = \"true\""
   ]
  },
  {
   "cell_type": "code",
   "execution_count": 25,
   "id": "0b4a7504",
   "metadata": {
    "scrolled": true
   },
   "outputs": [],
   "source": [
    "df = pd.read_csv('data/df_folds.csv')\n",
    "#neg_class = pd.read_csv('negative_class.csv')\n",
    "#df = pd.concat([df,neg_class]).reset_index(drop=True)\n",
    "#df['is_offensive'] = df['is_offensive'].fillna(0)\n",
    "#df['fold'] = df['fold'].fillna(6)"
   ]
  },
  {
   "cell_type": "code",
   "execution_count": 26,
   "id": "a7dac4c0",
   "metadata": {},
   "outputs": [
    {
     "data": {
      "application/vnd.jupyter.widget-view+json": {
       "model_id": "737f3731a02e4725825f41d301bb7964",
       "version_major": 2,
       "version_minor": 0
      },
      "text/plain": [
       "  0%|          | 0/12617 [00:00<?, ?it/s]"
      ]
     },
     "metadata": {},
     "output_type": "display_data"
    }
   ],
   "source": [
    "#df = pd.read_csv('data/df_folds.csv')\n",
    "df['text_len'] = df.text.progress_apply(lambda x: len(x))\n",
    "df = df[df.text_len>=3]\n",
    "df = df[~((df.target=='OTHER')&(df.is_offensive==1))]\n",
    "df = df.reset_index(drop=True)\n",
    "target_dict = {'OTHER':0,'PROFANITY':1,'SEXIST':2,'RACIST':3,'INSULT':4}\n",
    "df['target_new'] = df['target'].map(target_dict)\n",
    "\n",
    "\n",
    "X_train = df[df.fold != 0]['text']\n",
    "X_val = df[df.fold == 0]['text']\n",
    "\n",
    "y_train = df[df.fold != 0]['target_new']\n",
    "y_val = df[df.fold == 0]['target_new']"
   ]
  },
  {
   "cell_type": "code",
   "execution_count": 27,
   "id": "86878bd5",
   "metadata": {},
   "outputs": [
    {
     "name": "stdout",
     "output_type": "stream",
     "text": [
      "cuda\n"
     ]
    }
   ],
   "source": [
    "import torch\n",
    "from torch.utils.data import DataLoader, TensorDataset\n",
    "from transformers import AutoTokenizer,AutoModelForSequenceClassification,BertForSequenceClassification, BertTokenizer,XLMRobertaForSequenceClassification,XLMRobertaTokenizer\n",
    "from transformers import get_cosine_schedule_with_warmup, DataCollatorWithPadding\n",
    "from sklearn.metrics import f1_score\n",
    "\n",
    "device = torch.device('cuda' if torch.cuda.is_available() else 'cpu')\n",
    "print(device)"
   ]
  },
  {
   "cell_type": "code",
   "execution_count": 28,
   "id": "7f8f8f4f",
   "metadata": {},
   "outputs": [],
   "source": [
    "models = ['dbmdz/convbert-base-turkish-mc4-uncased',\n",
    "          'dbmdz/electra-base-turkish-mc4-uncased-generator',\n",
    "          'microsoft/deberta-base',\n",
    "          'akdeniz27/bert-turkish-text-classification',\n",
    "          'dbmdz/bert-base-turkish-128k-uncased',\n",
    "          'dbmdz/bert-base-turkish-128k-cased',\n",
    "         'dbmdz/bert-base-turkish-cased',\n",
    "         'dbmdz/convbert-base-turkish-mc4-uncased']"
   ]
  },
  {
   "cell_type": "code",
   "execution_count": 30,
   "id": "80068543",
   "metadata": {},
   "outputs": [],
   "source": [
    "class CFG:\n",
    "    print_freq = 300\n",
    "    num_workers = 24\n",
    "    #model = 'model/stage-1-paraphrase-multilingual-mpnet-base-v2-epochs-40-seq-50-tuned'\n",
    "    #tokenizer = AutoTokenizer.from_pretrained(model)\n",
    "    gradient_checkpointing = False\n",
    "    num_cycles = 0.5\n",
    "    warmup_ratio = 0.1\n",
    "    epochs = 1\n",
    "    encoder_lr = 1e-5\n",
    "    decoder_lr = 1e-4\n",
    "    eps = 1e-6\n",
    "    betas = (0.9, 0.999)\n",
    "    batch_size = 32\n",
    "    weight_decay = 0.01\n",
    "    max_grad_norm = 0.012\n",
    "    #max_len = 512\n",
    "    max_len = 128\n",
    "    n_folds = 5\n",
    "    seed = 42"
   ]
  },
  {
   "cell_type": "code",
   "execution_count": 31,
   "id": "c7eb3785",
   "metadata": {},
   "outputs": [],
   "source": [
    "# Define evaluation function\n",
    "def evaluate(model, dataloader):\n",
    "    model.eval()\n",
    "    total_correct = 0\n",
    "    all_preds = []\n",
    "    all_labels = []\n",
    "    with torch.no_grad():\n",
    "        for batch in dataloader:\n",
    "            input_ids, attention_mask, labels = batch\n",
    "            input_ids = input_ids.to(device)\n",
    "            attention_mask = attention_mask.to(device)\n",
    "            labels = labels.to(device)\n",
    "            outputs = model(input_ids, attention_mask=attention_mask)\n",
    "            logits = outputs.logits\n",
    "            predictions = torch.argmax(logits, dim=1)\n",
    "            total_correct += torch.sum(predictions == labels)\n",
    "            all_preds.extend(predictions.cpu().numpy())\n",
    "            all_labels.extend(labels.cpu().numpy())\n",
    "    accuracy = total_correct / len(dataloader.dataset)\n",
    "    f1 = f1_score(all_labels, all_preds, average='macro')\n",
    "    return accuracy, f1"
   ]
  },
  {
   "cell_type": "raw",
   "id": "98ab884f",
   "metadata": {},
   "source": [
    "\n",
    "for model_temp_path in models:\n",
    "    print(\"Trying: \",model_temp_path)\n",
    "    model = AutoModelForSequenceClassification.from_pretrained(model_temp_path, ignore_mismatched_sizes=True, num_labels=5)\n",
    "    model = model.to(device)\n",
    "    \n",
    "    tokenizer = AutoTokenizer.from_pretrained(model_temp_path,ignore_mismatched_sizes=True)\n",
    "    \n",
    "    # Load and preprocess data\n",
    "    train_texts = X_train.to_list() # list of training texts\n",
    "    train_labels =  y_train.to_list() # list of training labels (ints from 0 to num_labels-1)\n",
    "    train_encodings = tokenizer(train_texts, truncation=True, padding=True, max_length=128)\n",
    "    train_dataset = TensorDataset(\n",
    "        torch.tensor(train_encodings['input_ids']),\n",
    "        torch.tensor(train_encodings['attention_mask']),\n",
    "        torch.tensor(train_labels))\n",
    "    \n",
    "    # Fine-tune BERT model\n",
    "    model = model.train()\n",
    "    train_loader = DataLoader(train_dataset, batch_size=32, shuffle=True,num_workers=0)\n",
    "    optimizer = torch.optim.Adam(model.parameters(), lr=5e-5)\n",
    "    \n",
    "    #num_train_steps = int(len(train_texts) / CFG.batch_size * CFG.epochs)\n",
    "    #num_warmup_steps = num_train_steps * CFG.warmup_ratio\n",
    "    # Scheduler\n",
    "    #scheduler = get_cosine_schedule_with_warmup(\n",
    "    #    optimizer, \n",
    "    #    num_warmup_steps = num_warmup_steps, \n",
    "    #    num_training_steps = num_train_steps, \n",
    "    #    num_cycles = CFG.num_cycles\n",
    "    #    )\n",
    "    total_epochs = []\n",
    "    epoch_val_score = []\n",
    "    for epoch in range(CFG.epochs):\n",
    "        total_epochs.append(epoch)\n",
    "        running_loss = 0.0\n",
    "        for i, batch in enumerate(train_loader):\n",
    "            optimizer.zero_grad()\n",
    "            input_ids, attention_mask, labels = batch\n",
    "            input_ids = input_ids.to(device)\n",
    "            attention_mask = attention_mask.to(device)\n",
    "            labels = labels.to(device)\n",
    "            outputs = model(input_ids, attention_mask=attention_mask, labels=labels)\n",
    "            loss = outputs.loss\n",
    "            loss.backward()\n",
    "            optimizer.step()\n",
    "            #scheduler.step()\n",
    "            running_loss += loss.item()\n",
    "            if i % 50 == 49:    # Print every 50 batches\n",
    "                print(f'Epoch {epoch+1}, Batch {i+1}/{len(train_loader)}, Loss: {running_loss/50:.4f}')\n",
    "                running_loss = 0.0\n",
    "        # Evaluate on validation set\n",
    "        val_texts = X_val.to_list() # list of validation texts\n",
    "        val_labels = y_val.to_list() # list of validation labels (ints from 0 to num_labels-1)\n",
    "        val_encodings = tokenizer(val_texts, truncation=True, padding=True, max_length=128)\n",
    "        val_dataset = TensorDataset(\n",
    "            torch.tensor(val_encodings['input_ids']),\n",
    "            torch.tensor(val_encodings['attention_mask']),\n",
    "            torch.tensor(val_labels))\n",
    "        val_loader = DataLoader(val_dataset, batch_size=32, shuffle=False,num_workers=0)\n",
    "        val_accuracy, val_f1 = evaluate(model, val_loader)\n",
    "        epoch_val_score.append(val_f1)\n",
    "        print(f'Epoch {epoch+1}, Validation Accuracy: {val_accuracy:.5f}, Validation F1 macro score: {val_f1:.5f}')\n",
    "    \n",
    "    del model,optimizer,train_loader,val_loader; gc.collect()\n",
    "    torch.cuda.empty_cache()"
   ]
  },
  {
   "cell_type": "code",
   "execution_count": null,
   "id": "8cc1f1a0",
   "metadata": {},
   "outputs": [],
   "source": [
    "model = AutoModelForSequenceClassification.from_pretrained(model_path, ignore_mismatched_sizes=True, num_labels=5)\n",
    "model.to(device)\n",
    "tokenizer = AutoTokenizer.from_pretrained(model_path,ignore_mismatched_sizes=True)\n",
    "\n",
    "# Load and preprocess data\n",
    "train_texts = X_train.to_list() # list of training texts\n",
    "train_labels =  y_train.to_list() # list of training labels (ints from 0 to num_labels-1)\n",
    "train_encodings = tokenizer(train_texts, truncation=True, padding=True, max_length=128)\n",
    "train_dataset = TensorDataset(\n",
    "    torch.tensor(train_encodings['input_ids']),\n",
    "    torch.tensor(train_encodings['attention_mask']),\n",
    "    torch.tensor(train_labels))\n",
    "\n",
    "# Define evaluation function\n",
    "def evaluate(model, dataloader):\n",
    "    model.eval()\n",
    "    total_correct = 0\n",
    "    all_preds = []\n",
    "    all_labels = []\n",
    "    with torch.no_grad():\n",
    "        for batch in dataloader:\n",
    "            input_ids, attention_mask, labels = batch\n",
    "            input_ids = input_ids.to(device)\n",
    "            attention_mask = attention_mask.to(device)\n",
    "            labels = labels.to(device)\n",
    "            outputs = model(input_ids, attention_mask=attention_mask)\n",
    "            logits = outputs.logits\n",
    "            predictions = torch.argmax(logits, dim=1)\n",
    "            total_correct += torch.sum(predictions == labels)\n",
    "            all_preds.extend(predictions.cpu().numpy())\n",
    "            all_labels.extend(labels.cpu().numpy())\n",
    "    accuracy = total_correct / len(dataloader.dataset)\n",
    "    f1 = f1_score(all_labels, all_preds, average='macro')\n",
    "    return accuracy, f1\n",
    "\n",
    "# Fine-tune BERT model\n",
    "model.train()\n",
    "train_loader = DataLoader(train_dataset, batch_size=16, shuffle=True,num_workers=0)\n",
    "optimizer = torch.optim.Adam(model.parameters(), lr=5e-5)\n",
    "\n",
    "num_train_steps = int(len(train_texts) / CFG.batch_size * CFG.epochs)\n",
    "num_warmup_steps = num_train_steps * CFG.warmup_ratio\n",
    "# Scheduler\n",
    "#scheduler = get_cosine_schedule_with_warmup(\n",
    "#    optimizer, \n",
    "#    num_warmup_steps = num_warmup_steps, \n",
    "#    num_training_steps = num_train_steps, \n",
    "#    num_cycles = CFG.num_cycles\n",
    "#    )\n",
    "total_epochs = []\n",
    "epoch_val_score = []\n",
    "for epoch in range(CFG.epochs):\n",
    "    total_epochs.append(epoch)\n",
    "    running_loss = 0.0\n",
    "    for i, batch in enumerate(train_loader):\n",
    "        optimizer.zero_grad()\n",
    "        input_ids, attention_mask, labels = batch\n",
    "        input_ids = input_ids.to(device)\n",
    "        attention_mask = attention_mask.to(device)\n",
    "        labels = labels.to(device)\n",
    "        outputs = model(input_ids, attention_mask=attention_mask, labels=labels)\n",
    "        loss = outputs.loss\n",
    "        loss.backward()\n",
    "        optimizer.step()\n",
    "        #scheduler.step()\n",
    "        running_loss += loss.item()\n",
    "        if i % 50 == 49:    # Print every 50 batches\n",
    "            print(f'Epoch {epoch+1}, Batch {i+1}/{len(train_loader)}, Loss: {running_loss/50:.4f}')\n",
    "            running_loss = 0.0\n",
    "    # Evaluate on validation set\n",
    "    val_texts = X_val.to_list() # list of validation texts\n",
    "    val_labels = y_val.to_list() # list of validation labels (ints from 0 to num_labels-1)\n",
    "    val_encodings = tokenizer(val_texts, truncation=True, padding=True, max_length=128)\n",
    "    val_dataset = TensorDataset(\n",
    "        torch.tensor(val_encodings['input_ids']),\n",
    "        torch.tensor(val_encodings['attention_mask']),\n",
    "        torch.tensor(val_labels))\n",
    "    val_loader = DataLoader(val_dataset, batch_size=32, shuffle=False,num_workers=0)\n",
    "    val_accuracy, val_f1 = evaluate(model, val_loader)\n",
    "    epoch_val_score.append(val_f1)\n",
    "    print(f'Epoch {epoch+1}, Validation Accuracy: {val_accuracy:.5f}, Validation F1 macro score: {val_f1:.5f}')\n"
   ]
  },
  {
   "cell_type": "code",
   "execution_count": null,
   "id": "8d98e108",
   "metadata": {},
   "outputs": [],
   "source": [
    "val_loader = DataLoader(val_dataset, batch_size=32, shuffle=False)"
   ]
  },
  {
   "cell_type": "code",
   "execution_count": 6,
   "id": "88f34c31",
   "metadata": {},
   "outputs": [],
   "source": [
    "model.eval()\n",
    "total_correct = 0\n",
    "all_preds = []\n",
    "all_labels = []\n",
    "with torch.no_grad():\n",
    "    for batch in val_loader:\n",
    "        input_ids, attention_mask, labels = batch\n",
    "        input_ids = input_ids.to(device)\n",
    "        attention_mask = attention_mask.to(device)\n",
    "        labels = labels.to(device)\n",
    "        outputs = model(input_ids, attention_mask=attention_mask)\n",
    "        logits = outputs.logits\n",
    "        predictions = torch.argmax(logits, dim=1)\n",
    "        total_correct += torch.sum(predictions == labels)\n",
    "        all_preds.extend(predictions.cpu().numpy())\n",
    "        all_labels.extend(labels.cpu().numpy())\n",
    "accuracy = total_correct / len(val_loader.dataset)\n",
    "f1 = f1_score(all_labels, all_preds, average='macro')"
   ]
  },
  {
   "cell_type": "code",
   "execution_count": 7,
   "id": "027a5ad7",
   "metadata": {},
   "outputs": [
    {
     "data": {
      "text/plain": [
       "2475"
      ]
     },
     "execution_count": 7,
     "metadata": {},
     "output_type": "execute_result"
    }
   ],
   "source": [
    "len(all_preds)"
   ]
  },
  {
   "cell_type": "code",
   "execution_count": 8,
   "id": "7a3c0960",
   "metadata": {},
   "outputs": [
    {
     "data": {
      "text/plain": [
       "dict_keys(['OTHER', 'PROFANITY', 'SEXIST', 'RACIST', 'INSULT'])"
      ]
     },
     "execution_count": 8,
     "metadata": {},
     "output_type": "execute_result"
    }
   ],
   "source": [
    "target_dict.keys()"
   ]
  },
  {
   "cell_type": "code",
   "execution_count": 9,
   "id": "f4359eff",
   "metadata": {},
   "outputs": [
    {
     "name": "stdout",
     "output_type": "stream",
     "text": [
      "              precision    recall  f1-score   support\n",
      "\n",
      "       OTHER     0.9644    0.9260    0.9448       703\n",
      "   PROFANITY     0.9303    0.9832    0.9560       475\n",
      "      SEXIST     0.9458    0.9709    0.9582       413\n",
      "      RACIST     0.9684    0.9803    0.9743       406\n",
      "      INSULT     0.9136    0.8849    0.8990       478\n",
      "\n",
      "    accuracy                         0.9455      2475\n",
      "   macro avg     0.9445    0.9491    0.9465      2475\n",
      "weighted avg     0.9456    0.9455    0.9452      2475\n",
      "\n"
     ]
    }
   ],
   "source": [
    "print(classification_report(all_labels, all_preds,target_names=target_dict.keys(),digits=4))"
   ]
  },
  {
   "cell_type": "code",
   "execution_count": null,
   "id": "6b51a837",
   "metadata": {},
   "outputs": [],
   "source": []
  }
 ],
 "metadata": {
  "kernelspec": {
   "display_name": "Python 3 (ipykernel)",
   "language": "python",
   "name": "python3"
  },
  "language_info": {
   "codemirror_mode": {
    "name": "ipython",
    "version": 3
   },
   "file_extension": ".py",
   "mimetype": "text/x-python",
   "name": "python",
   "nbconvert_exporter": "python",
   "pygments_lexer": "ipython3",
   "version": "3.9.13"
  }
 },
 "nbformat": 4,
 "nbformat_minor": 5
}
