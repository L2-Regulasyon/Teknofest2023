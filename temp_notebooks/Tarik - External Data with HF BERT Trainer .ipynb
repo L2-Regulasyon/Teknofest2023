{
 "cells": [
  {
   "cell_type": "code",
   "execution_count": 1,
   "id": "b1db618b",
   "metadata": {},
   "outputs": [],
   "source": [
    "import pandas as pd\n",
    "from sklearn.model_selection import StratifiedKFold\n",
    "from sklearn.feature_extraction.text import TfidfVectorizer\n",
    "from lightgbm import LGBMClassifier\n",
    "from sklearn.metrics import classification_report\n",
    "from tqdm import tqdm\n",
    "from transformers import AutoTokenizer, AutoModelForSequenceClassification, TrainingArguments, Trainer\n",
    "from datasets import Dataset\n",
    "\n",
    "import numpy as np\n",
    "import torch\n",
    "from sklearn.model_selection import train_test_split\n",
    "from sklearn.metrics import roc_auc_score,f1_score"
   ]
  },
  {
   "cell_type": "code",
   "execution_count": 2,
   "id": "779b491e",
   "metadata": {},
   "outputs": [],
   "source": [
    "import os\n",
    "os.environ[\"PYTORCH_CUDA_ALLOC_CONF\"] = \"max_split_size_mb:21\""
   ]
  },
  {
   "cell_type": "code",
   "execution_count": 3,
   "id": "38a0bad4",
   "metadata": {},
   "outputs": [
    {
     "data": {
      "text/html": [
       "<div>\n",
       "<style scoped>\n",
       "    .dataframe tbody tr th:only-of-type {\n",
       "        vertical-align: middle;\n",
       "    }\n",
       "\n",
       "    .dataframe tbody tr th {\n",
       "        vertical-align: top;\n",
       "    }\n",
       "\n",
       "    .dataframe thead th {\n",
       "        text-align: right;\n",
       "    }\n",
       "</style>\n",
       "<table border=\"1\" class=\"dataframe\">\n",
       "  <thead>\n",
       "    <tr style=\"text-align: right;\">\n",
       "      <th></th>\n",
       "      <th>text</th>\n",
       "      <th>label</th>\n",
       "      <th>source</th>\n",
       "      <th>pred</th>\n",
       "    </tr>\n",
       "  </thead>\n",
       "  <tbody>\n",
       "    <tr>\n",
       "      <th>0</th>\n",
       "      <td>en güzel uyuyan insan ödülü jeon jungkook'a gi...</td>\n",
       "      <td>0</td>\n",
       "      <td>https://coltekin.github.io/offensive-turkish/</td>\n",
       "      <td>nan</td>\n",
       "    </tr>\n",
       "    <tr>\n",
       "      <th>1</th>\n",
       "      <td>mekanı cennet olsun, saygılar sayın avukatımız...</td>\n",
       "      <td>0</td>\n",
       "      <td>https://coltekin.github.io/offensive-turkish/</td>\n",
       "      <td>nan</td>\n",
       "    </tr>\n",
       "    <tr>\n",
       "      <th>2</th>\n",
       "      <td>kızlar aranızda kas yığını beylere düşenler ol...</td>\n",
       "      <td>0</td>\n",
       "      <td>https://coltekin.github.io/offensive-turkish/</td>\n",
       "      <td>nan</td>\n",
       "    </tr>\n",
       "    <tr>\n",
       "      <th>3</th>\n",
       "      <td>biraz ders çalışayım. tembellik ve uyku düşman...</td>\n",
       "      <td>0</td>\n",
       "      <td>https://coltekin.github.io/offensive-turkish/</td>\n",
       "      <td>nan</td>\n",
       "    </tr>\n",
       "    <tr>\n",
       "      <th>4</th>\n",
       "      <td>trezeguet yerine el sharawy daha iyi olmaz mı</td>\n",
       "      <td>0</td>\n",
       "      <td>https://coltekin.github.io/offensive-turkish/</td>\n",
       "      <td>nan</td>\n",
       "    </tr>\n",
       "  </tbody>\n",
       "</table>\n",
       "</div>"
      ],
      "text/plain": [
       "                                                text  label  \\\n",
       "0  en güzel uyuyan insan ödülü jeon jungkook'a gi...      0   \n",
       "1  mekanı cennet olsun, saygılar sayın avukatımız...      0   \n",
       "2  kızlar aranızda kas yığını beylere düşenler ol...      0   \n",
       "3  biraz ders çalışayım. tembellik ve uyku düşman...      0   \n",
       "4      trezeguet yerine el sharawy daha iyi olmaz mı      0   \n",
       "\n",
       "                                          source pred  \n",
       "0  https://coltekin.github.io/offensive-turkish/  nan  \n",
       "1  https://coltekin.github.io/offensive-turkish/  nan  \n",
       "2  https://coltekin.github.io/offensive-turkish/  nan  \n",
       "3  https://coltekin.github.io/offensive-turkish/  nan  \n",
       "4  https://coltekin.github.io/offensive-turkish/  nan  "
      ]
     },
     "execution_count": 3,
     "metadata": {},
     "output_type": "execute_result"
    }
   ],
   "source": [
    "#external data with sources\n",
    "url = 'https://drive.google.com/file/d/1tjOIxm-59iNot5AadrHOQg0pryZ5GDJ2/view?usp=share_link'\n",
    "path = 'https://drive.google.com/uc?export=download&id='+url.split('/')[-2]\n",
    "df = pd.read_csv(path)\n",
    "####\n",
    "\n",
    "df = df.dropna(subset=['text']).reset_index(drop=True)\n",
    "df[\"pred\"] = \"nan\"\n",
    "df[\"text\"] = df[\"text\"].str.lower()\n",
    "df.head()"
   ]
  },
  {
   "cell_type": "code",
   "execution_count": 4,
   "id": "4debf061",
   "metadata": {},
   "outputs": [
    {
     "data": {
      "text/plain": [
       "0    0.763434\n",
       "1    0.236566\n",
       "Name: label, dtype: float64"
      ]
     },
     "execution_count": 4,
     "metadata": {},
     "output_type": "execute_result"
    }
   ],
   "source": [
    "df.label.value_counts(normalize=True)"
   ]
  },
  {
   "cell_type": "code",
   "execution_count": 5,
   "id": "fa08e266",
   "metadata": {},
   "outputs": [],
   "source": [
    "def assign_split_ids(input_df: pd.DataFrame,\n",
    "                     fold_name: str,\n",
    "                     fold_count: int,\n",
    "                     seed: int):\n",
    "    \"\"\"\n",
    "    Split data for training and evaluation purposes.\n",
    "    \n",
    "    ---------\n",
    "    :param input_df: Competition dataframe with text and labels.\n",
    "    :param fold_name: Fold column name to be assigned.\n",
    "    :param fold_count: Split count for cross-validation.\n",
    "    :return: Competition dataframe with local or private CV folds.\n",
    "    \"\"\"\n",
    "    skf = StratifiedKFold(n_splits=fold_count, shuffle=True, random_state=seed)\n",
    "    splits = list(skf.split(input_df, input_df[\"label\"]))\n",
    "    input_df[fold_name] = 0\n",
    "    for split_id, split in enumerate(splits):\n",
    "        input_df.loc[split[1], fold_name] = split_id\n",
    "    return input_df"
   ]
  },
  {
   "cell_type": "code",
   "execution_count": 6,
   "id": "cdb2064b",
   "metadata": {},
   "outputs": [],
   "source": [
    "df = assign_split_ids(df,'local_cv',10,123)\n",
    "#df[\"target_encoded\"] = enc.fit_transform(df[\"label\"].values.reshape(-1,1)).tolist()"
   ]
  },
  {
   "cell_type": "code",
   "execution_count": 7,
   "id": "b690257c",
   "metadata": {
    "scrolled": true
   },
   "outputs": [
    {
     "name": "stderr",
     "output_type": "stream",
     "text": [
      "Some weights of the model checkpoint at dbmdz/bert-base-turkish-128k-uncased were not used when initializing BertForSequenceClassification: ['cls.predictions.decoder.bias', 'cls.seq_relationship.bias', 'cls.predictions.decoder.weight', 'cls.predictions.transform.dense.bias', 'cls.predictions.transform.dense.weight', 'cls.seq_relationship.weight', 'cls.predictions.bias', 'cls.predictions.transform.LayerNorm.weight', 'cls.predictions.transform.LayerNorm.bias']\n",
      "- This IS expected if you are initializing BertForSequenceClassification from the checkpoint of a model trained on another task or with another architecture (e.g. initializing a BertForSequenceClassification model from a BertForPreTraining model).\n",
      "- This IS NOT expected if you are initializing BertForSequenceClassification from the checkpoint of a model that you expect to be exactly identical (initializing a BertForSequenceClassification model from a BertForSequenceClassification model).\n",
      "Some weights of BertForSequenceClassification were not initialized from the model checkpoint at dbmdz/bert-base-turkish-128k-uncased and are newly initialized: ['classifier.bias', 'classifier.weight']\n",
      "You should probably TRAIN this model on a down-stream task to be able to use it for predictions and inference.\n"
     ]
    }
   ],
   "source": [
    "from transformers import AutoTokenizer\n",
    "\n",
    "model_name = \"dbmdz/bert-base-turkish-128k-uncased\"\n",
    "tokenizer = AutoTokenizer.from_pretrained(model_name)\n",
    "    \n",
    "model = AutoModelForSequenceClassification.from_pretrained(model_name,\n",
    "                                                           num_labels=2,\n",
    "                                                           ignore_mismatched_sizes=True)  "
   ]
  },
  {
   "cell_type": "code",
   "execution_count": 8,
   "id": "986d84fa",
   "metadata": {},
   "outputs": [],
   "source": [
    "X_train = df[df.local_cv != 0]#['text']\n",
    "X_val = df[df.local_cv == 0]#['text']\n",
    "\n",
    "#y_train = df[df.local_cv != 0]['label']\n",
    "#y_val = df[df.local_cv == 0]['label']"
   ]
  },
  {
   "cell_type": "code",
   "execution_count": 9,
   "id": "0cdd430e",
   "metadata": {},
   "outputs": [],
   "source": [
    "train_dataset = Dataset.from_pandas(X_train)\n",
    "val_dataset = Dataset.from_pandas(X_val)"
   ]
  },
  {
   "cell_type": "code",
   "execution_count": 10,
   "id": "31136d85",
   "metadata": {},
   "outputs": [
    {
     "data": {
      "application/vnd.jupyter.widget-view+json": {
       "model_id": "27503db4d79e486e9a314cf1902670c3",
       "version_major": 2,
       "version_minor": 0
      },
      "text/plain": [
       "  0%|          | 0/57 [00:00<?, ?ba/s]"
      ]
     },
     "metadata": {},
     "output_type": "display_data"
    },
    {
     "data": {
      "application/vnd.jupyter.widget-view+json": {
       "model_id": "7e92975430164c94b50fe03c867296ee",
       "version_major": 2,
       "version_minor": 0
      },
      "text/plain": [
       "  0%|          | 0/7 [00:00<?, ?ba/s]"
      ]
     },
     "metadata": {},
     "output_type": "display_data"
    }
   ],
   "source": [
    "def encode_dataset(data):\n",
    "    return tokenizer(data['text'], padding=True, truncation=True,max_length=128)\n",
    "\n",
    "train_dataset = train_dataset.map(encode_dataset, batched=True)\n",
    "val_dataset = val_dataset.map(encode_dataset, batched=True)"
   ]
  },
  {
   "cell_type": "code",
   "execution_count": 11,
   "id": "a4336deb",
   "metadata": {},
   "outputs": [
    {
     "data": {
      "application/vnd.jupyter.widget-view+json": {
       "model_id": "20d97e589ec84c5592b7a9245309532a",
       "version_major": 2,
       "version_minor": 0
      },
      "text/plain": [
       "  0%|          | 0/56628 [00:00<?, ?ex/s]"
      ]
     },
     "metadata": {},
     "output_type": "display_data"
    },
    {
     "data": {
      "application/vnd.jupyter.widget-view+json": {
       "model_id": "6ff858a0eb0b414181223bd72ef4e174",
       "version_major": 2,
       "version_minor": 0
      },
      "text/plain": [
       "  0%|          | 0/6293 [00:00<?, ?ex/s]"
      ]
     },
     "metadata": {},
     "output_type": "display_data"
    }
   ],
   "source": [
    "def modify_labels(data):\n",
    "    data['label'] = np.where(data['label'] == 1, 1, 0)\n",
    "    return data\n",
    "\n",
    "train_dataset = train_dataset.map(modify_labels)\n",
    "val_dataset = val_dataset.map(modify_labels)"
   ]
  },
  {
   "cell_type": "code",
   "execution_count": 12,
   "id": "80deb1bd",
   "metadata": {},
   "outputs": [],
   "source": [
    "training_args = TrainingArguments(\n",
    "    output_dir=f\"teknofest23_v2_{model_name.split('/')[-1]}_fold0\",         \n",
    "    evaluation_strategy = \"epoch\",\n",
    "    save_strategy = \"epoch\",\n",
    "    #evaluation_strategy=\"steps\",\n",
    "    #eval_steps=100,\n",
    "    learning_rate=3e-5,\n",
    "    gradient_accumulation_steps=1,\n",
    "    per_device_train_batch_size=32,\n",
    "    per_device_eval_batch_size=64,   \n",
    "    num_train_epochs=10,              \n",
    "    weight_decay=0.01,               \n",
    "    push_to_hub=False,               \n",
    "    #logging_dir='./logs',            \n",
    "    #logging_steps=500,\n",
    "    load_best_model_at_end=True,     \n",
    "    metric_for_best_model=\"roc_auc\",\n",
    ")"
   ]
  },
  {
   "cell_type": "raw",
   "id": "085a0c57",
   "metadata": {},
   "source": [
    "metric = load_metric(\"roc_auc\")"
   ]
  },
  {
   "cell_type": "code",
   "execution_count": 13,
   "id": "dd7e0512",
   "metadata": {},
   "outputs": [],
   "source": [
    "def compute_metrics(eval_pred):\n",
    "    logits, labels = eval_pred\n",
    "    predictions = torch.softmax(torch.tensor(logits), dim=1)[:, 1].numpy()\n",
    "    return {\"roc_auc\": roc_auc_score(labels, predictions)}"
   ]
  },
  {
   "cell_type": "code",
   "execution_count": null,
   "id": "d52e0550",
   "metadata": {},
   "outputs": [
    {
     "name": "stderr",
     "output_type": "stream",
     "text": [
      "The following columns in the training set don't have a corresponding argument in `BertForSequenceClassification.forward` and have been ignored: text, __index_level_0__, source, pred, local_cv. If text, __index_level_0__, source, pred, local_cv are not expected by `BertForSequenceClassification.forward`,  you can safely ignore this message.\n",
      "/home/ubuntu/anaconda3/lib/python3.9/site-packages/transformers/optimization.py:306: FutureWarning: This implementation of AdamW is deprecated and will be removed in a future version. Use the PyTorch implementation torch.optim.AdamW instead, or set `no_deprecation_warning=True` to disable this warning\n",
      "  warnings.warn(\n",
      "***** Running training *****\n",
      "  Num examples = 56628\n",
      "  Num Epochs = 10\n",
      "  Instantaneous batch size per device = 32\n",
      "  Total train batch size (w. parallel, distributed & accumulation) = 32\n",
      "  Gradient Accumulation steps = 1\n",
      "  Total optimization steps = 17700\n",
      "  Number of trainable parameters = 184346882\n",
      "You're using a BertTokenizerFast tokenizer. Please note that with a fast tokenizer, using the `__call__` method is faster than using a method to encode the text followed by a call to the `pad` method to get a padded encoding.\n"
     ]
    },
    {
     "data": {
      "text/html": [
       "\n",
       "    <div>\n",
       "      \n",
       "      <progress value='5799' max='17700' style='width:300px; height:20px; vertical-align: middle;'></progress>\n",
       "      [ 5799/17700 18:56 < 38:53, 5.10 it/s, Epoch 3.28/10]\n",
       "    </div>\n",
       "    <table border=\"1\" class=\"dataframe\">\n",
       "  <thead>\n",
       " <tr style=\"text-align: left;\">\n",
       "      <th>Epoch</th>\n",
       "      <th>Training Loss</th>\n",
       "      <th>Validation Loss</th>\n",
       "      <th>Roc Auc</th>\n",
       "    </tr>\n",
       "  </thead>\n",
       "  <tbody>\n",
       "    <tr>\n",
       "      <td>1</td>\n",
       "      <td>0.316300</td>\n",
       "      <td>0.285645</td>\n",
       "      <td>0.927726</td>\n",
       "    </tr>\n",
       "    <tr>\n",
       "      <td>2</td>\n",
       "      <td>0.220600</td>\n",
       "      <td>0.306875</td>\n",
       "      <td>0.928025</td>\n",
       "    </tr>\n",
       "    <tr>\n",
       "      <td>3</td>\n",
       "      <td>0.139200</td>\n",
       "      <td>0.415569</td>\n",
       "      <td>0.924259</td>\n",
       "    </tr>\n",
       "  </tbody>\n",
       "</table><p>"
      ],
      "text/plain": [
       "<IPython.core.display.HTML object>"
      ]
     },
     "metadata": {},
     "output_type": "display_data"
    },
    {
     "name": "stderr",
     "output_type": "stream",
     "text": [
      "The following columns in the evaluation set don't have a corresponding argument in `BertForSequenceClassification.forward` and have been ignored: text, __index_level_0__, source, pred, local_cv. If text, __index_level_0__, source, pred, local_cv are not expected by `BertForSequenceClassification.forward`,  you can safely ignore this message.\n",
      "***** Running Evaluation *****\n",
      "  Num examples = 6293\n",
      "  Batch size = 64\n",
      "Saving model checkpoint to teknofest23_v2_bert-base-turkish-128k-uncased_fold0/checkpoint-1770\n",
      "Configuration saved in teknofest23_v2_bert-base-turkish-128k-uncased_fold0/checkpoint-1770/config.json\n",
      "Model weights saved in teknofest23_v2_bert-base-turkish-128k-uncased_fold0/checkpoint-1770/pytorch_model.bin\n",
      "tokenizer config file saved in teknofest23_v2_bert-base-turkish-128k-uncased_fold0/checkpoint-1770/tokenizer_config.json\n",
      "Special tokens file saved in teknofest23_v2_bert-base-turkish-128k-uncased_fold0/checkpoint-1770/special_tokens_map.json\n",
      "The following columns in the evaluation set don't have a corresponding argument in `BertForSequenceClassification.forward` and have been ignored: text, __index_level_0__, source, pred, local_cv. If text, __index_level_0__, source, pred, local_cv are not expected by `BertForSequenceClassification.forward`,  you can safely ignore this message.\n",
      "***** Running Evaluation *****\n",
      "  Num examples = 6293\n",
      "  Batch size = 64\n",
      "Saving model checkpoint to teknofest23_v2_bert-base-turkish-128k-uncased_fold0/checkpoint-3540\n",
      "Configuration saved in teknofest23_v2_bert-base-turkish-128k-uncased_fold0/checkpoint-3540/config.json\n",
      "Model weights saved in teknofest23_v2_bert-base-turkish-128k-uncased_fold0/checkpoint-3540/pytorch_model.bin\n",
      "tokenizer config file saved in teknofest23_v2_bert-base-turkish-128k-uncased_fold0/checkpoint-3540/tokenizer_config.json\n",
      "Special tokens file saved in teknofest23_v2_bert-base-turkish-128k-uncased_fold0/checkpoint-3540/special_tokens_map.json\n",
      "The following columns in the evaluation set don't have a corresponding argument in `BertForSequenceClassification.forward` and have been ignored: text, __index_level_0__, source, pred, local_cv. If text, __index_level_0__, source, pred, local_cv are not expected by `BertForSequenceClassification.forward`,  you can safely ignore this message.\n",
      "***** Running Evaluation *****\n",
      "  Num examples = 6293\n",
      "  Batch size = 64\n",
      "Saving model checkpoint to teknofest23_v2_bert-base-turkish-128k-uncased_fold0/checkpoint-5310\n",
      "Configuration saved in teknofest23_v2_bert-base-turkish-128k-uncased_fold0/checkpoint-5310/config.json\n",
      "Model weights saved in teknofest23_v2_bert-base-turkish-128k-uncased_fold0/checkpoint-5310/pytorch_model.bin\n",
      "tokenizer config file saved in teknofest23_v2_bert-base-turkish-128k-uncased_fold0/checkpoint-5310/tokenizer_config.json\n",
      "Special tokens file saved in teknofest23_v2_bert-base-turkish-128k-uncased_fold0/checkpoint-5310/special_tokens_map.json\n"
     ]
    }
   ],
   "source": [
    "trainer = Trainer(\n",
    "    model=model,                         \n",
    "    args=training_args,                  \n",
    "    train_dataset=train_dataset,         \n",
    "    eval_dataset=val_dataset,            \n",
    "    compute_metrics=compute_metrics,\n",
    "    tokenizer=tokenizer\n",
    ")\n",
    "\n",
    "trainer.train()"
   ]
  },
  {
   "cell_type": "code",
   "execution_count": 17,
   "id": "06f485b6",
   "metadata": {},
   "outputs": [
    {
     "name": "stderr",
     "output_type": "stream",
     "text": [
      "The following columns in the test set don't have a corresponding argument in `BertForSequenceClassification.forward` and have been ignored: source, pred, __index_level_0__, text, local_cv. If source, pred, __index_level_0__, text, local_cv are not expected by `BertForSequenceClassification.forward`,  you can safely ignore this message.\n",
      "***** Running Prediction *****\n",
      "  Num examples = 6293\n",
      "  Batch size = 64\n"
     ]
    },
    {
     "data": {
      "text/html": [],
      "text/plain": [
       "<IPython.core.display.HTML object>"
      ]
     },
     "metadata": {},
     "output_type": "display_data"
    }
   ],
   "source": [
    "preds = trainer.predict(val_dataset)"
   ]
  },
  {
   "cell_type": "code",
   "execution_count": 38,
   "id": "c7512b52",
   "metadata": {
    "scrolled": true
   },
   "outputs": [
    {
     "data": {
      "text/plain": [
       "0       0\n",
       "1       0\n",
       "2       0\n",
       "3       0\n",
       "4       0\n",
       "       ..\n",
       "6288    0\n",
       "6289    0\n",
       "6290    0\n",
       "6291    0\n",
       "6292    0\n",
       "Length: 6293, dtype: int64"
      ]
     },
     "execution_count": 38,
     "metadata": {},
     "output_type": "execute_result"
    }
   ],
   "source": [
    "pd.Series(np.concatenate(preds.label_ids))#.value_counts()"
   ]
  },
  {
   "cell_type": "code",
   "execution_count": 52,
   "id": "75db880e",
   "metadata": {},
   "outputs": [],
   "source": [
    "val_pred_probs = torch.nn.functional.softmax(torch.Tensor(preds.predictions), dim=-1).numpy()"
   ]
  },
  {
   "cell_type": "code",
   "execution_count": 56,
   "id": "843ad43b",
   "metadata": {
    "scrolled": true
   },
   "outputs": [
    {
     "data": {
      "text/plain": [
       "0.9311952654185089"
      ]
     },
     "execution_count": 56,
     "metadata": {},
     "output_type": "execute_result"
    }
   ],
   "source": [
    "roc_auc_score(X_val['label'],val_pred_probs[:,1])"
   ]
  },
  {
   "cell_type": "code",
   "execution_count": 79,
   "id": "a17e54a6",
   "metadata": {},
   "outputs": [
    {
     "data": {
      "text/plain": [
       "0.7460937500000001"
      ]
     },
     "execution_count": 79,
     "metadata": {},
     "output_type": "execute_result"
    }
   ],
   "source": [
    "f1_score(X_val['label'], (val_pred_probs[:,1]>0.3).astype(int))"
   ]
  },
  {
   "cell_type": "raw",
   "id": "2ddd0ed3",
   "metadata": {},
   "source": [
    "print(classification_report(df[\"target\"], df[\"pred\"], digits=4))"
   ]
  }
 ],
 "metadata": {
  "kernelspec": {
   "display_name": "Python 3 (ipykernel)",
   "language": "python",
   "name": "python3"
  },
  "language_info": {
   "codemirror_mode": {
    "name": "ipython",
    "version": 3
   },
   "file_extension": ".py",
   "mimetype": "text/x-python",
   "name": "python",
   "nbconvert_exporter": "python",
   "pygments_lexer": "ipython3",
   "version": "3.9.13"
  }
 },
 "nbformat": 4,
 "nbformat_minor": 5
}
