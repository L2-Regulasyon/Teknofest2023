{
 "cells": [
  {
   "cell_type": "code",
   "execution_count": 1,
   "id": "3da5f602",
   "metadata": {},
   "outputs": [],
   "source": [
    "import pandas as pd\n",
    "import numpy as np\n",
    "import sys\n",
    "\n",
    "from utils.data_utils import read_model_zoo"
   ]
  },
  {
   "cell_type": "code",
   "execution_count": 2,
   "id": "2779b5ce",
   "metadata": {},
   "outputs": [],
   "source": [
    "zoo = read_model_zoo()"
   ]
  },
  {
   "cell_type": "code",
   "execution_count": 3,
   "id": "2b0c07e5",
   "metadata": {},
   "outputs": [],
   "source": [
    "public_zoo = zoo[\"public_fold\"]"
   ]
  },
  {
   "cell_type": "code",
   "execution_count": 4,
   "id": "5d6e547b",
   "metadata": {},
   "outputs": [],
   "source": [
    "sorted_experiments = sorted(public_zoo.keys())\n",
    "\n",
    "experiment_scores = []\n",
    "\n",
    "for experiment_name in sorted_experiments:\n",
    "    experiment = public_zoo[experiment_name]\n",
    "    f1m = experiment[\"macro avg\"][\"f1-score\"]\n",
    "    experiment_scores.append(f1m)\n",
    "    \n",
    "experiment_order = list(reversed(np.argsort(experiment_scores)))"
   ]
  },
  {
   "cell_type": "code",
   "execution_count": 5,
   "id": "0b741b6e",
   "metadata": {},
   "outputs": [
    {
     "name": "stdout",
     "output_type": "stream",
     "text": [
      "|Model|F1-Macro|F1-OTHER|F1-INSULT|F1-RACIST|F1-SEXIST|F1-PROFANITY|Ortalama Fold Eğitim Süresi|\n",
      "|---|---|---|---|---|---|---|---|\n",
      "|toxic-dbmdz-bert-base-turkish-128k-uncased|95.58\t|96.63\t|92.16\t|96.67\t|96.43\t|95.99\t|64.02 +- 0.4s|\n",
      "|dbmdz-bert-base-turkish-128k-uncased (Fine-Tuned) Embeddings + svc|95.54\t|96.59\t|92.14\t|96.71\t|96.28\t|95.98\t|77.96 +- 0.53s|\n",
      "|dbmdz-bert-base-turkish-128k-uncased (Fine-Tuned) Embeddings + lgbm|95.5\t|96.62\t|91.94\t|96.6\t|96.34\t|96.01\t|80.71 +- 0.42s|\n",
      "|dbmdz-bert-base-turkish-128k-uncased (Fine-Tuned) Embeddings + xgb|95.48\t|96.59\t|91.94\t|96.52\t|96.41\t|95.95\t|76.52 +- 0.33s|\n",
      "|dbmdz-bert-base-turkish-128k-uncased (Fine-Tuned) Embeddings + catboost|95.44\t|96.51\t|91.91\t|96.69\t|96.15\t|95.95\t|81.57 +- 0.31s|\n",
      "|toxic-dbmdz-bert-base-turkish-128k-uncased-casing-unbiased|94.86\t|95.38\t|91.2\t|95.94\t|95.93\t|95.87\t|63.05 +- 0.43s|\n",
      "|toxic-dbmdz-bert-base-turkish-128k-uncased-fully-unbiased|93.36\t|91.97\t|89.29\t|94.88\t|94.86\t|95.79\t|93.81 +- 1.59s|\n",
      "|xlm-roberta-base (Fine-Tuned) Embeddings + lgbm|92.92\t|94.35\t|87.27\t|94.37\t|94.66\t|93.96\t|102.41 +- 0.32s|\n",
      "|xlm-roberta-base (Fine-Tuned) Embeddings + svc|92.89\t|94.24\t|87.43\t|94.31\t|94.48\t|93.97\t|97.83 +- 0.5s|\n",
      "|xlm-roberta-base (Fine-Tuned) Embeddings + xgb|92.84\t|94.29\t|87.21\t|94.38\t|94.46\t|93.87\t|97.88 +- 0.31s|\n",
      "|xlm-roberta-base (Fine-Tuned) Embeddings + catboost|92.84\t|94.19\t|87.34\t|94.48\t|94.28\t|93.9\t|101.28 +- 0.35s|\n",
      "|toxic-xlm-roberta-base|92.56\t|93.92\t|86.71\t|94.16\t|94.21\t|93.78\t|80.63 +- 0.35s|\n",
      "|dbmdz-bert-base-turkish-128k-uncased Embeddings + svc|90.9\t|93.76\t|85.1\t|92.0\t|91.31\t|92.33\t|10.35 +- 1.0s|\n",
      "|tfidf Embeddings + lgbm|89.5\t|89.16\t|82.05\t|90.96\t|92.18\t|93.14\t|33.56 +- 0.37s|\n",
      "|dbmdz-bert-base-turkish-128k-uncased Embeddings + catboost|88.37\t|92.2\t|81.86\t|88.95\t|88.3\t|90.53\t|14.75 +- 0.12s|\n",
      "|tfidf Embeddings + xgb|87.61\t|87.04\t|78.67\t|89.5\t|90.63\t|92.19\t|55.15 +- 0.52s|\n",
      "|dbmdz-bert-base-turkish-128k-uncased Embeddings + xgb|87.42\t|91.74\t|80.7\t|87.7\t|87.16\t|89.81\t|11.97 +- 0.17s|\n",
      "|dbmdz-bert-base-turkish-128k-uncased Embeddings + lgbm|87.04\t|91.28\t|80.42\t|86.59\t|87.32\t|89.6\t|16.66 +- 0.15s|\n",
      "|tfidf Embeddings + catboost|86.39\t|85.45\t|77.06\t|88.36\t|90.1\t|90.98\t|279.94 +- 2.28s|\n",
      "|xlm-roberta-large Embeddings + lgbm|79.93\t|88.31\t|70.02\t|79.7\t|82.55\t|79.06\t|27.12 +- 0.66s|\n",
      "|xlm-roberta-base Embeddings + catboost|79.05\t|86.88\t|70.3\t|77.38\t|83.23\t|77.44\t|16.6 +- 0.14s|\n",
      "|xlm-roberta-large (Fine-Tuned) Embeddings + lgbm|78.95\t|84.29\t|72.2\t|80.22\t|80.29\t|77.77\t|186.16 +- 1.01s|\n",
      "|fasttext Embeddings + catboost|78.4\t|84.09\t|65.69\t|74.19\t|84.98\t|83.05\t|4.35 +- 0.05s|\n",
      "|xlm-roberta-base Embeddings + xgb|78.04\t|86.58\t|68.66\t|75.58\t|82.68\t|76.67\t|13.83 +- 0.14s|\n",
      "|xlm-roberta-base Embeddings + lgbm|77.64\t|86.41\t|67.47\t|75.69\t|82.46\t|76.15\t|18.06 +- 0.08s|\n",
      "|fasttext Embeddings + xgb|77.36\t|83.19\t|64.46\t|71.92\t|84.19\t|83.05\t|11.29 +- 0.13s|\n",
      "|fasttext Embeddings + lgbm|76.92\t|83.28\t|63.65\t|71.08\t|84.18\t|82.4\t|1.97 +- 0.06s|\n",
      "|toxic-xlm-roberta-large|72.01\t|79.11\t|73.34\t|64.36\t|65.67\t|77.59\t|151.79 +- 0.92s|\n",
      "|xlm-roberta-base Embeddings + svc|58.73\t|75.24\t|49.77\t|45.46\t|62.15\t|61.01\t|11.87 +- 0.19s|\n"
     ]
    }
   ],
   "source": [
    "print(f\"|Model|F1-Macro|F1-OTHER|F1-INSULT|F1-RACIST|F1-SEXIST|F1-PROFANITY|Ortalama Fold Eğitim Süresi|\")\n",
    "print(f\"|---|---|---|---|---|---|---|---|\")\n",
    "\n",
    "for experiment_name in np.array(sorted_experiments)[experiment_order]:\n",
    "    experiment = public_zoo[experiment_name]\n",
    "    f1m = np.round(experiment[\"macro avg\"][\"f1-score\"]*100, 2)\n",
    "    f1_other = np.round(experiment[\"OTHER\"][\"f1-score\"]*100, 2)\n",
    "    f1_insult = np.round(experiment[\"INSULT\"][\"f1-score\"]*100, 2)\n",
    "    f1_racist = np.round(experiment[\"RACIST\"][\"f1-score\"]*100, 2)\n",
    "    f1_sexist = np.round(experiment[\"SEXIST\"][\"f1-score\"]*100, 2)\n",
    "    f1_profanity = np.round(experiment[\"PROFANITY\"][\"f1-score\"]*100, 2)\n",
    "    fold_time = f'{experiment[\"mean_fold_time\"]} +- {experiment[\"std_fold_time\"]}s'\n",
    "    print(f\"|{experiment_name}|{f1m}\\t|{f1_other}\\t|{f1_insult}\\t|{f1_racist}\\t|{f1_sexist}\\t|{f1_profanity}\\t|{fold_time}|\")"
   ]
  },
  {
   "cell_type": "code",
   "execution_count": null,
   "id": "6716e095",
   "metadata": {},
   "outputs": [],
   "source": []
  }
 ],
 "metadata": {
  "kernelspec": {
   "display_name": "Python 3 (ipykernel)",
   "language": "python",
   "name": "python3"
  },
  "language_info": {
   "codemirror_mode": {
    "name": "ipython",
    "version": 3
   },
   "file_extension": ".py",
   "mimetype": "text/x-python",
   "name": "python",
   "nbconvert_exporter": "python",
   "pygments_lexer": "ipython3",
   "version": "3.8.10"
  }
 },
 "nbformat": 4,
 "nbformat_minor": 5
}
